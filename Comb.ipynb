{
 "cells": [
  {
   "attachments": {},
   "cell_type": "markdown",
   "metadata": {},
   "source": [
    "# Combinações de mãos e decisões de fim de jogo"
   ]
  },
  {
   "cell_type": "code",
   "execution_count": 137,
   "metadata": {},
   "outputs": [],
   "source": [
    "import itertools\n",
    "from pprint import pprint\n",
    "from tqdm import tqdm, trange"
   ]
  },
  {
   "attachments": {},
   "cell_type": "markdown",
   "metadata": {},
   "source": [
    "### Considerações"
   ]
  },
  {
   "attachments": {},
   "cell_type": "markdown",
   "metadata": {},
   "source": [
    "Todas as dúvidas sobre as regras de combinações de cartas foram sanadas testando tais combinações com o app ``Fantasy Realms Scoring``."
   ]
  },
  {
   "attachments": {},
   "cell_type": "markdown",
   "metadata": {},
   "source": [
    "O método .opções() das cartas visa criar um dicionário, normalmente com uma única chave cujo valor é uma lista de índices de possíveis alvos para seus efeitos. Esses alvos podem ser selecionados a partir da mão onde a carta se encontra ou da lista completa de cartas. Quem cria todas as combinações de alvos é o objeto Mão()."
   ]
  },
  {
   "attachments": {},
   "cell_type": "markdown",
   "metadata": {},
   "source": [
    "O objeto Mão() não demanda a Lista completa de cartas. Apenas seus métodos .possibilidade() e .cálculo() necessitam."
   ]
  },
  {
   "attachments": {},
   "cell_type": "markdown",
   "metadata": {},
   "source": [
    "Cartas anuladas não causam penalidade. Por isso, o método .anulação() ocorre antes do método .penalidade(). Porém, como as anulações são penalidades, a remoção ocorre antes."
   ]
  },
  {
   "attachments": {},
   "cell_type": "markdown",
   "metadata": {},
   "source": [
    ".anulação(): Anula a carta alvo.  \n",
    ".anula(): armazena a ordem de anular a si própria.  \n",
    ".autoanula(): pega a ordem acumulada e finalmente se anula.  "
   ]
  },
  {
   "attachments": {},
   "cell_type": "markdown",
   "metadata": {},
   "source": [
    "A Fumaça tem efeito de anulação mas em tempo de penalidade, porque ela pode não encontrar uma Chama que foi anulada e irá anular a si mesma."
   ]
  },
  {
   "attachments": {},
   "cell_type": "markdown",
   "metadata": {},
   "source": [
    "A Forja se assegura de que uma carta com dois tipos, Arma e Artefato, não forneçam bônus duas vezes."
   ]
  },
  {
   "attachments": {},
   "cell_type": "markdown",
   "metadata": {},
   "source": [
    "O Necromante possui bônus e não é descrito dentre a ordem dos efeitos no FAQ do manual de Fantasy Realms, entretanto, é designado que o efeito tem seu gatilho acionado no fim de jogo, que aqui será considerado anterior a qualquer cálculo de pontuação."
   ]
  },
  {
   "attachments": {},
   "cell_type": "markdown",
   "metadata": {},
   "source": [
    "Graças à Fênix, todos os nomes e tipos são listas de nomes e tipos."
   ]
  },
  {
   "attachments": {},
   "cell_type": "markdown",
   "metadata": {},
   "source": [
    "A Gema da Ordem dará 150 pontos para 7 ou mais cartas em sequência. Isso porque o Necromante aumenta o número de cartas na mão, o que pode causar uma sequência de 8 cartas e isso reduziria o bô nus da Gema da Ordem para 0."
   ]
  },
  {
   "attachments": {},
   "cell_type": "markdown",
   "metadata": {},
   "source": [
    "A Árvore da Vida considera a Fênix sendo dos tipos Animal, Chama e Clima. Se houver qualquer outra carta de um desses tipos, o bônus da Árvore da Vida não se aplica."
   ]
  },
  {
   "attachments": {},
   "cell_type": "markdown",
   "metadata": {},
   "source": [
    "O Livro da Transfiguração altera apenas o primeiro tipo dentro da lista de tipos da carta alvo. Isso foi determinado com base na Fênix, que possui três tipos, mas apenas o primeiro sendo da própria carta e os demais atribuídos por bônus. Será considerado que todo tipo além do primeiro advem de efeitos de cartas."
   ]
  },
  {
   "attachments": {},
   "cell_type": "markdown",
   "metadata": {},
   "source": [
    "## Classes das Cartas"
   ]
  },
  {
   "attachments": {},
   "cell_type": "markdown",
   "metadata": {},
   "source": [
    "Atributos  \n",
    "* Nome\n",
    "* Tipo\n",
    "* Força\n",
    "* Tipo de efeito\n",
    "* Opções: uma lista de dicionários\n",
    "  * Dicionário: {Escolha_exigida: Escolha_feita}"
   ]
  },
  {
   "attachments": {},
   "cell_type": "markdown",
   "metadata": {},
   "source": [
    "Métodos\n",
    "* Opções\n",
    "* EfeitoA\n",
    "* EfeitoB\n",
    "* EfeitoC\n",
    "* EfeitoD\n",
    "* EfeitoE\n",
    "* EfeitoF\n",
    "* EfeitoG"
   ]
  },
  {
   "attachments": {},
   "cell_type": "markdown",
   "metadata": {},
   "source": [
    "### Funções Base"
   ]
  },
  {
   "cell_type": "code",
   "execution_count": 138,
   "metadata": {},
   "outputs": [],
   "source": [
    "class Carta:\n",
    "    def __init__(s):\n",
    "        s.Nome = []\n",
    "        s.Tipo = []\n",
    "        s.Força = 0\n",
    "        s.Efeito = []\n",
    "        s.CitaBon = []\n",
    "        s.CitaPen = []\n",
    "        s.Decisões = {}\n",
    "        s.SemPenalidade = False\n",
    "        s.Anulada = False\n",
    "        s.Bônus = 0\n",
    "        s.v = False\n",
    "    def copy(s):\n",
    "        return type(s)()\n",
    "\n",
    "# Funções recorrentes\n",
    "    def meuíndice(s, índice): # A mão possui um método para evocar este método para cada carta.\n",
    "        s.Índice = índice\n",
    "    def opções(s, mão, Lista): # As decisões envolvendo esta carta são iteradas em ordem e agregam as decisões dentro das possibilidades.\n",
    "        pass\n",
    "\n",
    "#Funções evocadas por outras cartas\n",
    "    def anula(s):\n",
    "        s.Anulada = True\n",
    "    def autoanula(s): # Quando uma carta é anulada por outra, a que anula dá a ordem para a anulada anular a si mesma com este método\n",
    "        s.Nome = []\n",
    "        s.Tipo = []\n",
    "        s.Força = 0\n",
    "        s.Efeito = []\n",
    "        s.CitaBon = []\n",
    "        s.CitaPen = []\n",
    "        s.Decisões = {}\n",
    "        s.Índice = None\n",
    "        s.SemPenalidade = False\n",
    "        s.Bônus = 0\n",
    "        def fimdejogo(s, mão, poss, Lista):\n",
    "            pass\n",
    "        def doppelgänger(s, mão, poss, Lista):\n",
    "            pass\n",
    "        def miragem(s, mão, poss, Lista):\n",
    "            pass\n",
    "        def metamorfo(s, mão, poss, Lista):\n",
    "            pass\n",
    "        def livro(s, mão, poss, Lista):\n",
    "            pass\n",
    "        def tipos(s, mão, poss, Lista):\n",
    "            pass\n",
    "        def remoção(s, mão, poss, Lista):\n",
    "            pass\n",
    "        def anulação(s, mão, poss, Lista):\n",
    "            pass\n",
    "        def seanula(s, mão, poss, Lista):\n",
    "            pass\n",
    "        def penalidade(s, mão, poss, Lista):\n",
    "            pass\n",
    "        def bônus(s, mão, poss, Lista):\n",
    "            pass\n",
    "    def autoremoção(s):\n",
    "        s.SemPenalidade = True\n",
    "\n",
    "# Efeitos\n",
    "    def fimdejogo(s, mão, poss, Lista):\n",
    "        pass\n",
    "    def doppelgänger(s, mão, poss, Lista):\n",
    "        pass\n",
    "    def miragem(s, mão, poss, Lista):\n",
    "        pass\n",
    "    def metamorfo(s, mão, poss, Lista):\n",
    "        pass\n",
    "    def livro(s, mão, poss, Lista):\n",
    "        pass\n",
    "    def tipos(s, mão, poss, Lista):\n",
    "        pass\n",
    "    def remoção(s, mão, poss, Lista):\n",
    "        pass\n",
    "    def anulação(s, mão, poss, Lista):\n",
    "        pass\n",
    "    def seanula(s, mão, poss, Lista):\n",
    "        pass\n",
    "    def penalidade(s, mão, poss, Lista):\n",
    "        pass\n",
    "    def bônus(s, mão, poss, Lista):\n",
    "        pass\n",
    "\n",
    "    def depuração(s):\n",
    "        print(s.Nome,s.Força,'+',s.Bônus) # ?\n"
   ]
  },
  {
   "cell_type": "code",
   "execution_count": 139,
   "metadata": {},
   "outputs": [],
   "source": [
    "# Para testes de certos algoritmos de cartas, serve como um simulacro de contjunto de cartas neutras que segue uma lista de tipos.\n",
    "    # Função criada para testar a Árvore da Vida com a Fênix.\n",
    "# Em muitos casos, gerar uma mão de teste é mais eficiente.\n",
    "\n",
    "def conjunto_teste(n):\n",
    "    L = []\n",
    "    for i in n:\n",
    "        L.append(Carta())\n",
    "        L[-1].Tipo.append(i)\n",
    "\n",
    "    L[-2].Tipo.append(n[0])\n",
    "    L[-2].Tipo.append(n[1])\n",
    "\n",
    "    return L"
   ]
  },
  {
   "cell_type": "code",
   "execution_count": 140,
   "metadata": {},
   "outputs": [],
   "source": [
    "def printcard(Carta):\n",
    "    #print(Carta)\n",
    "    Tipo = ''\n",
    "    for tipo in Carta.Tipo:\n",
    "        Tipo = Tipo+' '+tipo\n",
    "    Nome = ''\n",
    "    for nome in Carta.Nome:\n",
    "        Nome = Nome+' '+nome\n",
    "    print(Nome + ', Tipo:' + Tipo + ', Força: ' + str(Carta.Força) + ', Bônus: ' + str(Carta.Bônus) + '.')"
   ]
  },
  {
   "cell_type": "code",
   "execution_count": 141,
   "metadata": {},
   "outputs": [],
   "source": [
    "def printcardlist(Lista):\n",
    "    for i in Lista:\n",
    "        printcard(i)\n",
    "    print()"
   ]
  },
  {
   "attachments": {},
   "cell_type": "markdown",
   "metadata": {},
   "source": [
    "### Funções das Cartas"
   ]
  },
  {
   "attachments": {},
   "cell_type": "markdown",
   "metadata": {},
   "source": [
    "* Nome: Montanha\n",
    "* Tipo: Terreno\n",
    "* Força: 9\n",
    "* Bônus: Efeito: +50 com ``Fumaça`` e ``Incêndio``\n",
    "* Remove a penalidade em todas as INUNDAÇÕES."
   ]
  },
  {
   "cell_type": "code",
   "execution_count": 142,
   "metadata": {},
   "outputs": [],
   "source": [
    "class Montanha(Carta):\n",
    "    def __init__(s):\n",
    "        super().__init__()\n",
    "        s.Nome = ['Montanha']\n",
    "        s.Tipo = ['Terreno']\n",
    "        s.Força = 9\n",
    "        s.Efeito = ['Bônus']\n",
    "        s.CitaBon = ['Inundação']\n",
    "    def remoção(s, mão, poss, Lista):\n",
    "        for carta in mão.Conjunto:\n",
    "            for tipo in carta.Tipo:\n",
    "                if tipo in s.CitaBon:\n",
    "                    carta.autoremoção()\n",
    "    def bônus(s, mão, poss, Lista):\n",
    "        s.Bônus = 0\n",
    "        Verif1 = False\n",
    "        Verif2 = False\n",
    "        for carta in mão.Conjunto:\n",
    "            for nome in carta.Nome:\n",
    "                if nome == 'Fumaça':\n",
    "                    Verif1 = True\n",
    "        for carta in mão.Conjunto:\n",
    "            for nome in carta.Nome:\n",
    "                if nome == 'Incêndio':\n",
    "                    Verif2 = True\n",
    "        if Verif1 and Verif2:\n",
    "            s.Bônus = 50"
   ]
  },
  {
   "attachments": {},
   "cell_type": "markdown",
   "metadata": {},
   "source": [
    "* Nome: Caverna\n",
    "* Tipo: Terreno\n",
    "* Força: 6\n",
    "* Bônus: +25 com ``Infantaria Anã`` ou ``Dragão``.\n",
    "* Remove a penalidade em todos os CLIMAS."
   ]
  },
  {
   "cell_type": "code",
   "execution_count": 143,
   "metadata": {},
   "outputs": [],
   "source": [
    "class Caverna(Carta):\n",
    "    def __init__(s):\n",
    "        super().__init__()\n",
    "        s.Nome = ['Caverna']\n",
    "        s.Tipo = ['Terreno']\n",
    "        s.Força = 6\n",
    "        s.Efeito = ['Bônus']\n",
    "        s.CitaBon = ['Clima']\n",
    "    def remoção(s, mão, poss, Lista):\n",
    "        for carta in mão.Conjunto:\n",
    "            for tipo in carta.Tipo:\n",
    "                if tipo in s.CitaBon:\n",
    "                    carta.autoremoção()\n",
    "    def bônus(s, mão, poss, Lista):\n",
    "        s.Bônus = 0\n",
    "        for carta in mão.Conjunto:\n",
    "            for nome in carta.Nome:\n",
    "                if nome == 'Infantaria Anã' or carta.Nome == 'Dragão':\n",
    "                    s.Bônus = 25"
   ]
  },
  {
   "attachments": {},
   "cell_type": "markdown",
   "metadata": {},
   "source": [
    "* Nome: Torre do Sino\n",
    "* Tipo: Terreno\n",
    "* Força: 8\n",
    "* Bônus: +15 com qualquer MAGO ou MORTO-VIVO."
   ]
  },
  {
   "cell_type": "code",
   "execution_count": 144,
   "metadata": {},
   "outputs": [],
   "source": [
    "class Torre_do_Sino(Carta):\n",
    "    def __init__(s):\n",
    "        super().__init__()\n",
    "        s.Nome = ['Torre do Sino']\n",
    "        s.Tipo = ['Terreno']\n",
    "        s.Força = 8\n",
    "        s.Efeito = ['Bônus']\n",
    "        s.CitaBon = ['Mago','Morto-Vivo']\n",
    "    def bônus(s, mão, poss, Lista):\n",
    "        s.Bônus = 0\n",
    "        for carta in mão.Conjunto:\n",
    "            for tipo in carta.Tipo:\n",
    "                if tipo in s.CitaBon:\n",
    "                    s.Bônus = 15"
   ]
  },
  {
   "attachments": {},
   "cell_type": "markdown",
   "metadata": {},
   "source": [
    "* Nome: Floresta\n",
    "* Tipo: Terreno\n",
    "* Força: 7\n",
    "* Bônus: +12 para cada ANIMAL e ``Arqueiros Elfos``."
   ]
  },
  {
   "cell_type": "code",
   "execution_count": 145,
   "metadata": {},
   "outputs": [],
   "source": [
    "class Floresta(Carta):\n",
    "    def __init__(s):\n",
    "        super().__init__()\n",
    "        s.Nome = ['Floresta']\n",
    "        s.Tipo = ['Terreno']\n",
    "        s.Força = 7\n",
    "        s.Efeito = ['Bônus']\n",
    "        s.CitaBon = ['Animal']\n",
    "    def bônus(s, mão, poss, Lista):\n",
    "        s.Bônus = 0\n",
    "        for carta in mão.Conjunto:\n",
    "            for tipo in carta.Tipo:\n",
    "                if (tipo in s.CitaBon):\n",
    "                    s.Bônus += 12\n",
    "            for nome in carta.Nome:\n",
    "                if nome == 'Arqueiros Elfos':\n",
    "                    s.Bônus += 12"
   ]
  },
  {
   "attachments": {},
   "cell_type": "markdown",
   "metadata": {},
   "source": [
    "* Nome: Elemental da Terra\n",
    "* Tipo: Terreno\n",
    "* Força: 4\n",
    "* Bônus: +15 para cada outro TERRENO."
   ]
  },
  {
   "cell_type": "code",
   "execution_count": 146,
   "metadata": {},
   "outputs": [],
   "source": [
    "class Elemental_da_Terra(Carta):\n",
    "    def __init__(s):\n",
    "        super().__init__()\n",
    "        s.Nome = ['Elemental da Terra']\n",
    "        s.Tipo = ['Terreno']\n",
    "        s.Força = 4\n",
    "        s.Efeito = ['Bônus']\n",
    "        s.CitaBon = ['Terreno']\n",
    "    def bônus(s, mão, poss, Lista):\n",
    "        s.Bônus = 0\n",
    "        for carta in mão.Conjunto:\n",
    "            for tipo in carta.Tipo:\n",
    "                if tipo in s.CitaBon:\n",
    "                    s.Bônus += 15\n",
    "        for tipo in s.Tipo:\n",
    "            if s.Tipo == 'Terreno':\n",
    "                s.Bônus -= 15"
   ]
  },
  {
   "attachments": {},
   "cell_type": "markdown",
   "metadata": {},
   "source": [
    "* Nome: Fonte da Vida\n",
    "* Tipo: Inundação\n",
    "* Força: 1\n",
    "* Bônus: Adcione a força básica de qualquer uma ARMA, INUNDAÇÃO, CHAMA, TERRENO ou CLIMA em sua mão."
   ]
  },
  {
   "cell_type": "code",
   "execution_count": 147,
   "metadata": {},
   "outputs": [],
   "source": [
    "class Fonte_da_Vida(Carta):\n",
    "    def __init__(s):\n",
    "        super().__init__()\n",
    "        s.Nome = ['Fonte da Vida']\n",
    "        s.Tipo = ['Inundação']\n",
    "        s.Força = 1\n",
    "        s.Efeito = ['Bônus']\n",
    "        s.CitaBon = ['Arma','Inundação','Chama','Terreno','Clima']\n",
    "    def opções(s, mão, Lista):\n",
    "        Decisões = {}\n",
    "        Decisões['Fonte da Vida'] = []\n",
    "        for carta in mão.Conjunto:\n",
    "            for tipo in carta.Tipo:\n",
    "                if tipo in s.CitaBon:\n",
    "                    Decisões['Fonte da Vida'].append(mão.Conjunto.index(carta))\n",
    "        for i,j in Decisões.items():\n",
    "            mão.Poss[i] = j\n",
    "    def bônus(s, mão, poss, Lista):\n",
    "        if 'Fonte da Vida' in poss:\n",
    "            s.Bônus = 0\n",
    "            index = poss['Fonte da Vida'] # reserva um int que serve de índice\n",
    "            s.Bônus = mão.Conjunto[index].Força\n",
    "\n",
    "            # A escolha é válida?\n",
    "            if poss['Válida']:                   # Se a mão for válida, ela pode ser invalidada, mas não o contrário\n",
    "                poss['Válida'] = False             # A possibilidade é falsa até que se prove o contrário\n",
    "                for tipo in mão.Conjunto[index].Tipo: # Dentre os tipos da carta escolhida\n",
    "                    if tipo in s.CitaBon:            # Ao menos um tipo for encontrado entre possíveis alvos\n",
    "                            poss['Válida'] = True      # A possibilidade volta a ser válida"
   ]
  },
  {
   "attachments": {},
   "cell_type": "markdown",
   "metadata": {},
   "source": [
    "* Nome: Pântano\n",
    "* Tipo: Inundação\n",
    "* Força: 18\n",
    "* Penalidade: -3 para cada EXÉRCITO e CHAMA."
   ]
  },
  {
   "cell_type": "code",
   "execution_count": 148,
   "metadata": {},
   "outputs": [],
   "source": [
    "class Pântano(Carta):\n",
    "    def __init__(s):\n",
    "        super().__init__()\n",
    "        s.Nome = ['Pântano']\n",
    "        s.Tipo = ['Inundação']\n",
    "        s.Força = 18\n",
    "        s.Efeito = ['Penalidade']\n",
    "        s.CitaPen = ['Exército','Chama']\n",
    "    def penalidade(s, mão, poss, Lista):\n",
    "        s.Bônus = 0\n",
    "        for carta in mão.Conjunto:\n",
    "            for tipo in carta.Tipo:\n",
    "                if tipo in s.CitaPen:\n",
    "                    s.Bônus -= 3"
   ]
  },
  {
   "attachments": {},
   "cell_type": "markdown",
   "metadata": {},
   "source": [
    "* Nome: Grande Inundação\n",
    "* Tipo: Inundação\n",
    "* Força: 32\n",
    "* Penalidade: Anula todos os EXÉRCITOS, todos os TERRENOS exceto ``Montanha``, e todas as CHAMAS exceto ``Relâmpago``."
   ]
  },
  {
   "cell_type": "code",
   "execution_count": 149,
   "metadata": {},
   "outputs": [],
   "source": [
    "class Grande_Inundação(Carta):\n",
    "    def __init__(s):\n",
    "        super().__init__()\n",
    "        s.Nome = ['Grande Inundação']\n",
    "        s.Tipo = ['Inundação']\n",
    "        s.Força = 32\n",
    "        s.Efeito = ['Penalidade']\n",
    "        s.CitaPen = ['Exército','Terreno','Chama']\n",
    "    def anulação(s, mão, poss, Lista):\n",
    "        for carta in mão.Conjunto:\n",
    "            Verif = False\n",
    "            for tipo in carta.Tipo:\n",
    "                if tipo == s.CitaPen[0]:\n",
    "                    Verif = True\n",
    "                elif tipo == s.CitaPen[1]:\n",
    "                    Verif = True\n",
    "                    for nome in carta.Nome:\n",
    "                        if nome =='Montanha':\n",
    "                            Verif = False\n",
    "                elif tipo == s.CitaPen[2]:\n",
    "                    Verif = True\n",
    "                    for nome in carta.Nome:\n",
    "                        if nome =='Relâmpago':\n",
    "                            Verif = False\n",
    "            if Verif:\n",
    "                carta.anula()\n"
   ]
  },
  {
   "attachments": {},
   "cell_type": "markdown",
   "metadata": {},
   "source": [
    "* Nome: Ilha\n",
    "* Tipo: Inundação\n",
    "* Força: 14\n",
    "* Bônus: Remove a penalidade em qualquer INUNDAÇÃO ou CHAMA."
   ]
  },
  {
   "cell_type": "code",
   "execution_count": 150,
   "metadata": {},
   "outputs": [],
   "source": [
    "class Ilha(Carta):\n",
    "    def __init__(s):\n",
    "        super().__init__()\n",
    "        s.Nome = ['Ilha']\n",
    "        s.Tipo = ['Inundação']\n",
    "        s.Força = 14\n",
    "        s.Efeito = ['Bônus']\n",
    "        s.CitaBon = ['Inundação','Chama']\n",
    "        \n",
    "    def opções(s, mão, Lista):\n",
    "        Decisões = {}\n",
    "        Decisões['Ilha'] = []\n",
    "        for carta in mão.Conjunto:\n",
    "            for tipo in carta.Tipo:\n",
    "                if tipo in s.CitaBon:\n",
    "                    Decisões['Ilha'].append(mão.Conjunto.index(carta))\n",
    "        for i,j in Decisões.items():\n",
    "            mão.Poss[i] = j\n",
    "\n",
    "    def remoção(s, mão, poss, Lista):\n",
    "        if 'Ilha' in poss:\n",
    "            index = poss['Ilha']\n",
    "            mão.Conjunto[index].autoremoção()\n",
    "\n",
    "            print(mão.Conjunto[index].Nome,'teve a penalidade removida pela Ilha.') #?\n",
    "\n",
    "            # A escolha é válida?\n",
    "            if poss['Válida']:                   # Se a mão for válida, ela pode ser invalidada, mas não o contrário\n",
    "                poss['Válida'] = False             # A possibilidade é inválida até que se prove o contrário\n",
    "                for tipo in mão.Conjunto[index].Tipo: # Dentre os tipos da carta escolhida\n",
    "                    if tipo in s.CitaBon:            # Ao menos um tipo for encontrado entre possíveis alvos\n",
    "                            poss['Válida'] = True      # A possibilidade volta a ser válida"
   ]
  },
  {
   "attachments": {},
   "cell_type": "markdown",
   "metadata": {},
   "source": [
    "* Nome: Elemental da Água\n",
    "* Tipo: Inundação\n",
    "* Força: 4\n",
    "* Bônus: +15 para cada outra INUNDAÇÃO."
   ]
  },
  {
   "cell_type": "code",
   "execution_count": 151,
   "metadata": {},
   "outputs": [],
   "source": [
    "class Elemental_da_Água(Carta):\n",
    "    def __init__(s):\n",
    "        super().__init__()\n",
    "        s.Nome = ['Elemental da Água']\n",
    "        s.Tipo = ['Inundação']\n",
    "        s.Força = 4\n",
    "        s.Efeito = ['Bônus']\n",
    "        s.CitaBon = ['Inundação']\n",
    "    def bônus(s, mão, poss, Lista):\n",
    "        s.Bônus = 0\n",
    "        for carta in mão.Conjunto:\n",
    "            for tipo in carta.Tipo:\n",
    "                if tipo in s.CitaBon:\n",
    "                    s.Bônus += 15\n",
    "        for tipo in s.Tipo:\n",
    "            if s.Tipo == 'Inundação':\n",
    "                s.Bônus -= 15"
   ]
  },
  {
   "attachments": {},
   "cell_type": "markdown",
   "metadata": {},
   "source": [
    "* Nome: Tempestade\n",
    "* Tipo: Clima\n",
    "* Força: 8\n",
    "* Bônus: +10 para cada INUNDAÇÃO.\n",
    "* Penalidade: Anula todas as CHAMAS, exceto ``Relâmpago``."
   ]
  },
  {
   "cell_type": "code",
   "execution_count": 152,
   "metadata": {},
   "outputs": [],
   "source": [
    "class Tempestade(Carta):\n",
    "    def __init__(s):\n",
    "        super().__init__()\n",
    "        s.Nome = ['Tempestade']\n",
    "        s.Tipo = ['Clima']\n",
    "        s.Força = 8\n",
    "        s.Efeito = ['Bônus']\n",
    "        s.CitaPen = ['Chama']\n",
    "        s.CitaBon = ['Inundação']\n",
    "\n",
    "    def anulação(s, mão, poss, Lista):\n",
    "        s.Bônus = 0\n",
    "        for carta in mão.Conjunto:\n",
    "            Verif = False\n",
    "            for tipo in carta.Tipo:\n",
    "                if tipo in s.CitaPen:\n",
    "                    Verif = True\n",
    "                    for nome in carta.Nome:\n",
    "                        if nome == 'Relâmpago':\n",
    "                            Verif = False\n",
    "            if Verif:\n",
    "                carta.anula()\n",
    "\n",
    "    def bônus(s, mão, poss, Lista):\n",
    "        for carta in mão.Conjunto:\n",
    "            for tipo in carta.Tipo:\n",
    "                if tipo in s.CitaBon:\n",
    "                    s.Bônus += 10"
   ]
  },
  {
   "attachments": {},
   "cell_type": "markdown",
   "metadata": {},
   "source": [
    "* Nome: Nevasca\n",
    "* Tipo: Clima\n",
    "* Força: 30\n",
    "* Penalidade: Anula todas as INUNDAÇÕES.\n",
    "* Penalidade: -5 para cada EXÉRCITO, LÍDER, ANIMAL e CHAMA."
   ]
  },
  {
   "cell_type": "code",
   "execution_count": 153,
   "metadata": {},
   "outputs": [],
   "source": [
    "class Nevasca(Carta):\n",
    "    def __init__(s):\n",
    "        super().__init__()\n",
    "        s.Nome = ['Nevasca']\n",
    "        s.Tipo = ['Clima']\n",
    "        s.Força = 30\n",
    "        s.Efeito = ['Penalidade']\n",
    "        s.CitaPen = ['Inundação','Exército','Líder','Animal','Chama']\n",
    "\n",
    "    def anulação(s, mão, poss, Lista):\n",
    "        s.Bônus = 0\n",
    "        for carta in mão.Conjunto:\n",
    "            for tipo in carta.Tipo:\n",
    "                if tipo == s.CitaPen[0]:\n",
    "                    carta.anula()\n",
    "\n",
    "    def penalidade(s, mão, poss, Lista):\n",
    "        for carta in mão.Conjunto:\n",
    "            for tipo in carta.Tipo:\n",
    "                if tipo in s.CitaPen[1:]:\n",
    "                    s.Bônus -=5"
   ]
  },
  {
   "attachments": {},
   "cell_type": "markdown",
   "metadata": {},
   "source": [
    "* Nome: Fumaça\n",
    "* Tipo: Clima\n",
    "* Força: 27\n",
    "* Penalidade: Esta carta é anulada, a menos que você tenha pelo menos uma CHAMA."
   ]
  },
  {
   "cell_type": "code",
   "execution_count": 154,
   "metadata": {},
   "outputs": [],
   "source": [
    "class Fumaça(Carta):\n",
    "    def __init__(s):\n",
    "        super().__init__()\n",
    "        s.Nome = 'Fumaça'\n",
    "        s.Tipo = 'Clima'\n",
    "        s.Força = 27\n",
    "        s.Efeito = ['Penalidade']\n",
    "        s.CitaPen = ['Chama']\n",
    "    def seanula(s, mão, poss, Lista):\n",
    "        Verif = True\n",
    "        for carta in mão.Conjunto:\n",
    "            for tipo in carta.Tipo:\n",
    "                if tipo in s.CitaPen:\n",
    "                    Verif = False\n",
    "        if Verif:\n",
    "            s.anula()"
   ]
  },
  {
   "attachments": {},
   "cell_type": "markdown",
   "metadata": {},
   "source": [
    "* Nome: Furacão\n",
    "* Tipo: Clima\n",
    "* Força: 13\n",
    "* Bônus: +40 com ``Tempestade`` e ``Nevasca`` ou +40 com ``Tempestade`` e ``Grande Inundação``."
   ]
  },
  {
   "cell_type": "code",
   "execution_count": 155,
   "metadata": {},
   "outputs": [],
   "source": [
    "class Furacão(Carta):\n",
    "    def __init__(s):\n",
    "        super().__init__()\n",
    "        s.Nome = ['Furacão']\n",
    "        s.Tipo = ['Clima']\n",
    "        s.Força = 13\n",
    "        s.Efeito = ['Bônus']\n",
    "        \n",
    "        def bônus(s, mão, poss, Lista):\n",
    "            s.bônus = 0\n",
    "            Verif1 = False\n",
    "            Verif2 = False\n",
    "            Verif3 = False\n",
    "            for carta in mão.Conjunto:\n",
    "                for nome in carta.Nome:\n",
    "                    if nome == 'Tempestade':\n",
    "                        Verif1 = True\n",
    "                    if nome == 'Nevasca':\n",
    "                        Verif2 = True\n",
    "                    if nome == 'Grande Inundação':\n",
    "                        Verif3 = True\n",
    "            if Verif1 and (Verif2 or Verif3):\n",
    "                s.Bônus = 40"
   ]
  },
  {
   "attachments": {},
   "cell_type": "markdown",
   "metadata": {},
   "source": [
    "* Nome: Elemental do Ar\n",
    "* Tipo: Clima\n",
    "* Força: 4\n",
    "* Bônus: +15 para cada outro CLIMA."
   ]
  },
  {
   "cell_type": "code",
   "execution_count": 156,
   "metadata": {},
   "outputs": [],
   "source": [
    "class Elemental_do_Ar(Carta):\n",
    "    def __init__(s):\n",
    "        super().__init__()\n",
    "        s.Nome = ['Elemental da Ar']\n",
    "        s.Tipo = ['Clima']\n",
    "        s.Força = 4\n",
    "        s.Efeito = ['Bônus']\n",
    "        s.CitaBon = ['Clima']\n",
    "    def bônus(s, mão, poss, Lista):\n",
    "        s.Bônus = 0\n",
    "        for carta in mão.Conjunto:\n",
    "            for tipo in carta.Tipo:\n",
    "                if tipo in s.CitaBon:\n",
    "                    s.Bônus += 15\n",
    "        for tipo in s.Tipo:\n",
    "            if s.Tipo == 'Clima':\n",
    "                s.Bônus -= 15"
   ]
  },
  {
   "attachments": {},
   "cell_type": "markdown",
   "metadata": {},
   "source": [
    "* Nome: Incêndio\n",
    "* Tipo: Chama\n",
    "* Força: 40\n",
    "* Penalidade: Anula todas as cartas, exceto CHAMAS, MAGOS, CLIMAS, ARMAS, ARTEFATOS, ``Montanha``, ``Grande Inundação``, ``Ilha``, ``Unicórnio`` e ``Dragão``."
   ]
  },
  {
   "cell_type": "code",
   "execution_count": 157,
   "metadata": {},
   "outputs": [],
   "source": [
    "class Incêndio(Carta):\n",
    "    def __init__(s):\n",
    "        super().__init__()\n",
    "        s.Nome = ['Incêndio']\n",
    "        s.Tipo = ['Chama']\n",
    "        s.Força = 40\n",
    "        s.Efeito = ['Penalidade']\n",
    "        s.CitaPen = ['Chama','Mago','Clima','Arma','Artefato','Montanha','Grande inundação','Ilha','Unicórnio','Dragão']\n",
    "    def anulação(s, mão, poss, Lista):\n",
    "        for carta in mão.Conjunto:\n",
    "            Verif = True\n",
    "            for tipo in carta.Tipo:\n",
    "                if tipo in s.CitaPen:\n",
    "                    Verif = False\n",
    "            for nome in carta.Nome:\n",
    "                if nome in s.CitaPen:\n",
    "                    Verif = False\n",
    "            if Verif:\n",
    "                carta.anula()"
   ]
  },
  {
   "attachments": {},
   "cell_type": "markdown",
   "metadata": {},
   "source": [
    "* Nome: Vela\n",
    "* Tipo: Chama\n",
    "* Força: 2\n",
    "* Bônus: +100 com ``Livro da Transfiguração``, ``Torre do Sino`` e qualquer MAGO."
   ]
  },
  {
   "cell_type": "code",
   "execution_count": 158,
   "metadata": {},
   "outputs": [],
   "source": [
    "class Vela(Carta):\n",
    "    def __init__(s):\n",
    "        super().__init__()\n",
    "        s.Nome = ['Vela']\n",
    "        s.Tipo = ['Chama']\n",
    "        s.Força = 2\n",
    "        s.Efeito = ['Bônus']\n",
    "        s.CitaBon = ['Mago']\n",
    "        def bônus(s, mão, poss, Lista):\n",
    "            s.bônus = 0\n",
    "            Verif1 = False\n",
    "            Verif2 = False\n",
    "            Verif3 = False\n",
    "            for carta in mão.Conjunto:\n",
    "                for nome in carta.Nome:\n",
    "                    if nome == 'Livro da Transfiguração':\n",
    "                        Verif1 = True\n",
    "                    if nome == 'Torre do Sino':\n",
    "                        Verif2 = True\n",
    "                for tipo in carta.Tipo:\n",
    "                    if tipo in s.CitaBon:\n",
    "                        Verif3 = True\n",
    "            if Verif1 and Verif2 and Verif3:\n",
    "                s.Bônus = 100"
   ]
  },
  {
   "attachments": {},
   "cell_type": "markdown",
   "metadata": {},
   "source": [
    "* Nome: Forja\n",
    "* Tipo: Chama\n",
    "* Força: 9\n",
    "* Bônus: +9 para cada ARMA e ARTEFATO."
   ]
  },
  {
   "cell_type": "code",
   "execution_count": 159,
   "metadata": {},
   "outputs": [],
   "source": [
    "class Forja(Carta):\n",
    "    def __init__(s):\n",
    "        super().__init__()\n",
    "        s.Nome = ['Forja']\n",
    "        s.Tipo = ['Chama']\n",
    "        s.Força = 9\n",
    "        s.Efeito = ['Bônus']\n",
    "        s.CitaBon = ['Arma','Artefato']\n",
    "\n",
    "    def bônus(s, mão, poss, Lista):\n",
    "        for carta in mão.Conjunto:\n",
    "            Verif = False # Para evitar que uma carta com os tipos Arma e Artefato dêem bônus duas vezes\n",
    "            for tipo in carta.Tipo:\n",
    "                if tipo in s.CitaBon:\n",
    "                    Verif = True\n",
    "            if Verif:\n",
    "                s.Bônus += 9"
   ]
  },
  {
   "attachments": {},
   "cell_type": "markdown",
   "metadata": {},
   "source": [
    "* Nome: Relâmpago\n",
    "* Tipo: Chama\n",
    "* Força: 11\n",
    "* Bônus: +30 com ``Tempestade``"
   ]
  },
  {
   "cell_type": "code",
   "execution_count": 160,
   "metadata": {},
   "outputs": [],
   "source": [
    "class Relâmpago(Carta):\n",
    "    def __init__(s):\n",
    "        super().__init__()\n",
    "        s.Nome = ['Relâmpago']\n",
    "        s.Tipo = ['Chama']\n",
    "        s.Força = 11\n",
    "        s.Efeito = ['Bônus']\n",
    "    def bônus(s, mão, poss, Lista):\n",
    "        s.Bônus = 0\n",
    "        for carta in mão.Conjunto:\n",
    "            for nome in carta.Nome:\n",
    "                if nome == 'Tempestade':\n",
    "                    s.Bônus = 30"
   ]
  },
  {
   "attachments": {},
   "cell_type": "markdown",
   "metadata": {},
   "source": [
    "* Nome: Elemental do Fogo\n",
    "* Tipo: Chama\n",
    "* Força: 4\n",
    "* Bônus: +15 para cada CHAMA."
   ]
  },
  {
   "cell_type": "code",
   "execution_count": 161,
   "metadata": {},
   "outputs": [],
   "source": [
    "class Elemental_do_Fogo(Carta):\n",
    "    def __init__(s):\n",
    "        super().__init__()\n",
    "        s.Nome = ['Elemental do Fogo']\n",
    "        s.Tipo = ['Chama']\n",
    "        s.Força = 4\n",
    "        s.Efeito = ['Bônus']\n",
    "        s.CitaBon = ['Chama']\n",
    "    def bônus(s, mão, poss, Lista):\n",
    "        s.Bônus = 0\n",
    "        for carta in mão.Conjunto:\n",
    "            for tipo in carta.Tipo:\n",
    "                if tipo in s.CitaBon:\n",
    "                    s.Bônus += 15\n",
    "        for tipo in s.Tipo:\n",
    "            if s.Tipo == 'Chama':\n",
    "                s.Bônus -= 15"
   ]
  },
  {
   "attachments": {},
   "cell_type": "markdown",
   "metadata": {},
   "source": [
    "* Nome: Cavaleiros\n",
    "* Tipo: Exército\n",
    "* Força: 20\n",
    "* Penalidade: -8 a menos que você tenha qualquer LÍDER."
   ]
  },
  {
   "cell_type": "code",
   "execution_count": 162,
   "metadata": {},
   "outputs": [],
   "source": [
    "class Cavaleiros(Carta):\n",
    "    def __init__(s):\n",
    "        super().__init__()\n",
    "        s.Nome = ['Cavaleiros']\n",
    "        s.Tipo = ['Exército']\n",
    "        s.Força = 4\n",
    "        s.Efeito = ['Penalidade']\n",
    "        s.CitaPen = ['Líder']\n",
    "    def penalidade(s, mão, poss, Lista):\n",
    "        Verif = True\n",
    "        for carta in mão.Conjunto:\n",
    "            for tipo in carta.Tipo:\n",
    "                if tipo in s.CitaPen:\n",
    "                    Verif = False\n",
    "        if Verif:\n",
    "            s.Bônus = -8"
   ]
  },
  {
   "attachments": {},
   "cell_type": "markdown",
   "metadata": {},
   "source": [
    "* Nome: Arqueiros Elfos\n",
    "* Tipo: Exército\n",
    "* Força: 10\n",
    "* Bônus: +5 se você não tiver nenhuma carta de CLIMA."
   ]
  },
  {
   "cell_type": "code",
   "execution_count": 163,
   "metadata": {},
   "outputs": [],
   "source": [
    "class Arqueiros_Elfos(Carta):\n",
    "    def __init__(s):\n",
    "        super().__init__()\n",
    "        s.Nome = ['Arqueiros Elfos']\n",
    "        s.Tipo = ['Exército']\n",
    "        s.Força = 10\n",
    "        s.Efeito = ['Bônus']\n",
    "        s.CitaBon = ['Clima']\n",
    "\n",
    "    def bônus(s, mão, poss, Lista):\n",
    "        Verif = True\n",
    "        for carta in mão.Conjunto:\n",
    "            for tipo in carta.Tipo:\n",
    "                if tipo in s.CitaBon:\n",
    "                    Verif = False\n",
    "        if Verif:\n",
    "            s.Bônus = 5"
   ]
  },
  {
   "attachments": {},
   "cell_type": "markdown",
   "metadata": {},
   "source": [
    "* Nome: Cavalaria Leve\n",
    "* Tipo: Exército\n",
    "* Força: 17\n",
    "* Penalidade: -2 para cada TERRENO."
   ]
  },
  {
   "cell_type": "code",
   "execution_count": 164,
   "metadata": {},
   "outputs": [],
   "source": [
    "class Cavalaria_Leve(Carta):\n",
    "    def __init__(s):\n",
    "        super().__init__()\n",
    "        s.Nome = ['Cavalaria Leve']\n",
    "        s.Tipo = ['Exército']\n",
    "        s.Força = 17\n",
    "        s.Efeito = ['Penalidade']\n",
    "        s.CitaPen = ['Terreno']\n",
    "    def penalidade(s, mão, poss, Lista):\n",
    "        s.Bônus = 0\n",
    "        for carta in mão.Conjunto:\n",
    "            for tipo in carta.Tipo:\n",
    "                if tipo in s.CitaPen:\n",
    "                    s.Bônus -= 2"
   ]
  },
  {
   "attachments": {},
   "cell_type": "markdown",
   "metadata": {},
   "source": [
    "* Nome: Infantaria Anã\n",
    "* Tipo: Exército\n",
    "* Força: 15\n",
    "* Penalidade: -2 para cada outro EXÉRCITO."
   ]
  },
  {
   "cell_type": "code",
   "execution_count": 165,
   "metadata": {},
   "outputs": [],
   "source": [
    "class Infantaria_Anã(Carta):\n",
    "    def __init__(s):\n",
    "        super().__init__()\n",
    "        s.Nome = ['Infantaria Anã']\n",
    "        s.Tipo = ['Exército']\n",
    "        s.Força = 15\n",
    "        s.Efeito = ['Penalidade']\n",
    "        s.CitaPen = ['Exército']\n",
    "    def penalidade(s, mão, poss, Lista):\n",
    "        s.Bônus = 0\n",
    "        for carta in mão.Conjunto:\n",
    "            for tipo in carta.Tipo:\n",
    "                if tipo in s.CitaPen:\n",
    "                    s.Bônus -= 2\n",
    "        for tipo in s.Tipo:\n",
    "            if tipo in s.CitaPen:\n",
    "                s.Bônus += 2"
   ]
  },
  {
   "attachments": {},
   "cell_type": "markdown",
   "metadata": {},
   "source": [
    "* Nome: Patrulheiros\n",
    "* Tipo: Exército\n",
    "* Força: 5\n",
    "* Bônus: +10 para cada TERRENO\n",
    "* Remove a palavra EXÉRCITO de todas as Penalidades (exceto do ``Dirigível de Gerra``)."
   ]
  },
  {
   "cell_type": "code",
   "execution_count": 166,
   "metadata": {},
   "outputs": [],
   "source": [
    "class Patrulheiros(Carta):\n",
    "    def __init__(s):\n",
    "        super().__init__()\n",
    "        s.Nome = ['Patrulheiros']\n",
    "        s.Tipo = ['Exército']\n",
    "        s.Força = 5\n",
    "        s.Efeito = ['Bônus']\n",
    "        s.CitaBon = ['Exército','Terreno']\n",
    "    def remoção(s, mão, poss, Lista):\n",
    "        for carta in mão.Conjunto:\n",
    "            Verif = True\n",
    "            for nome in carta.Nome:\n",
    "                if nome == 'Dirigível de Guerra':\n",
    "                    Verif = False\n",
    "            if Verif:\n",
    "                for i in range(len(carta.CitaPen)):\n",
    "                    if carta.CitaPen[i] == 'Exército':\n",
    "                        carta.CitaPen[i] = ''"
   ]
  },
  {
   "attachments": {},
   "cell_type": "markdown",
   "metadata": {},
   "source": [
    "* Nome: Colecionador\n",
    "* Tipo: Mago\n",
    "* Força: 7\n",
    "* Bônus: +10 se você tiver três cartas diferentes do mesmo tipo. +40 se você tiver quatro cartas diferentes do mesmo tipo. +100 se você tiver cinco cartas diferentes do mesmo tipo."
   ]
  },
  {
   "cell_type": "code",
   "execution_count": 167,
   "metadata": {},
   "outputs": [],
   "source": [
    "class Colecionador(Carta):\n",
    "    def __init__(s):\n",
    "        super().__init__()\n",
    "        s.Nome = ['Colecionador']\n",
    "        s.Tipo = ['Mago']\n",
    "        s.Força = 7\n",
    "        s.Efeito = ['Bônus']\n",
    "\n",
    "    def bônus(s, mão, poss, Lista):\n",
    "        Verif = {}\n",
    "\n",
    "        # Para cada tipo de cada carta, cria uma chave 'tipo' e atribui a ela o valor de lista vazia.\n",
    "        for carta in mão.Conjunto:\n",
    "            for tipo in carta.Tipo:\n",
    "                Verif[tipo] = []\n",
    "\n",
    "        # Para cada tipo de cada carta, para cada nome de cada carta, adiciona 'nome' à lista cuja chave é 'tipo'.\n",
    "        for carta in mão.Conjunto:\n",
    "            for tipo in carta.Tipo:\n",
    "                for nome in carta.Nome:\n",
    "                    if nome not in Verif[tipo]:\n",
    "                        Verif[tipo].append(nome)\n",
    "\n",
    "        # Para cada lista no dicionário, se a lista tiver tamanho 3, 4 ou 5, +10, +40 ou +100, respectivamente.\n",
    "        for j in Verif.values():\n",
    "            if len(j) == 3:\n",
    "                s.Bônus = 10\n",
    "            elif len(j) == 4:\n",
    "                s.Bônus = 40\n",
    "            elif len(j) == 5:\n",
    "                s.Bônus = 100"
   ]
  },
  {
   "attachments": {},
   "cell_type": "markdown",
   "metadata": {},
   "source": [
    "* Nome: Mestre dos Animais\n",
    "* Tipo: Mago\n",
    "* Força: 9\n",
    "* Bônus: +9 para cada ANIMAL\n",
    "* Remove a penalidade em todos os ANIMAIS."
   ]
  },
  {
   "cell_type": "code",
   "execution_count": 168,
   "metadata": {},
   "outputs": [],
   "source": [
    "class Mestre_dos_Animais(Carta):\n",
    "    def __init__(s):\n",
    "        super().__init__()\n",
    "        s.Nome = ['Mestre dos Animais']\n",
    "        s.Tipo = ['Mago']\n",
    "        s.Força = 9\n",
    "        s.Efeito = ['Bônus']\n",
    "        s.CitaBon = ['Animal']\n",
    "\n",
    "    def remoção(s, mão, poss, Lista):\n",
    "        for carta in mão.Conjunto:\n",
    "            for tipo in carta.Tipo:\n",
    "                if tipo in s.CitaBon:\n",
    "                    carta.autoremoção()\n",
    "\n",
    "    def bônus(s, mão, poss, Lista):\n",
    "        for carta in mão.Conjunto:\n",
    "            for tipo in carta.Tipo:\n",
    "                if tipo in s.CitaBon:\n",
    "                    s.Bônus += 9"
   ]
  },
  {
   "attachments": {},
   "cell_type": "markdown",
   "metadata": {},
   "source": [
    "* Nome: Necromante\n",
    "* Tipo: Mago\n",
    "* Força: 3\n",
    "* Bônus: No fim do jogo, você pode pegar um EXÉRCITO, LÍDER MAGO ou ANIMAL da área de descarte e adicioná-lo à sua mão como uma oitava carta."
   ]
  },
  {
   "cell_type": "code",
   "execution_count": 169,
   "metadata": {},
   "outputs": [],
   "source": [
    "class Necromante(Carta):\n",
    "    def __init__(s):\n",
    "        super().__init__()\n",
    "        s.Nome = ['Necromante']\n",
    "        s.Tipo = ['Mago']\n",
    "        s.Força = 3\n",
    "        s.Efeito = ['Bônus']\n",
    "        s.CitaBon = ['Exército','Líder','Mago','Animal']\n",
    "\n",
    "    def opções(s, mão, Lista):\n",
    "\n",
    "        # Lista com os nomes das cartas na mão; funcionará como s.CitaBon\n",
    "        NaMão = []\n",
    "        for carta in mão.Conjunto:\n",
    "            for nome in carta.Nome:\n",
    "                NaMão.append(nome)\n",
    "        \n",
    "        Decisões = {'Necromante':[]}\n",
    "\n",
    "        # Índices de cartas da Lista válidas\n",
    "        for carta in Lista:\n",
    "            Válida = False # Carta não é válida até que se prove o contrário\n",
    "            for tipo in carta.Tipo: # Se algum tipo da carta\n",
    "                if tipo in s.CitaBon: # for um dos tipos citadosno bônus\n",
    "                    Válida = True # a carta é válida, porém\n",
    "            for nome in carta.Nome: # se algum  nome da carta\n",
    "                if nome in NaMão: # for um dos nomes Na Mão\n",
    "                    Válida = False # a carta não é mais válida\n",
    "            if Válida: # por fim, se a carta for válida\n",
    "                Decisões['Necromante'].append(Lista.index(carta)) # o índice da carta é uma opção registrada\n",
    "\n",
    "        # índices e identificação do Necromante passado para a mão\n",
    "        print('Decsões Necro',Decisões) #?\n",
    "        for i,j in Decisões.items(): # Para cada chave ('Necromante') e item (lista de índices)\n",
    "            print('i,j',i,j)\n",
    "            mão.Poss[i] = j # O mesmo é depositado nas possibilidades da mão\n",
    "        print('mão.Poss =',mão.Poss)\n",
    "\n",
    "    def fimdejogo(s, mão, poss, Lista):\n",
    "        print('Necro poss', poss)\n",
    "        if 'Necromante' in poss:\n",
    "            index = poss['Necromante']\n",
    "\n",
    "            for tipo in Lista[index].Tipo:\n",
    "                if tipo not in s.CitaBon:\n",
    "                    poss['Válida'] = False\n",
    "                \n",
    "            mão.Conjunto.append(Lista[index].copy())"
   ]
  },
  {
   "attachments": {},
   "cell_type": "markdown",
   "metadata": {},
   "source": [
    "* Nome: Lorde dos Bruxos\n",
    "* Tipo: Mago\n",
    "* Força: 25\n",
    "* Penalidade: -10 para cada LÍDER e outro MAGO."
   ]
  },
  {
   "cell_type": "code",
   "execution_count": 170,
   "metadata": {},
   "outputs": [],
   "source": [
    "class Lorde_dos_Bruxos(Carta):\n",
    "    def __init__(s):\n",
    "        super().__init__()\n",
    "        s.Nome = ['Lorde dos Bruxos']\n",
    "        s.Tipo = ['Mago']\n",
    "        s.Força = 25\n",
    "        s.Efeito = ['Penalidade']\n",
    "        s.CitaPen = ['Líder','Mago']\n",
    "\n",
    "    def penalidade(s, mão, poss, Lista):\n",
    "        for carta in mão.Conjunto:\n",
    "            Verif = False\n",
    "            for tipo in carta.Tipo:\n",
    "                if tipo in s.CitaPen:\n",
    "                    Verif = True\n",
    "            if Verif:\n",
    "                s.Bônus-= 10\n",
    "        Verif = False\n",
    "        for tipo in s.Tipo:\n",
    "            if tipo == 'Mago':\n",
    "                Verif = True\n",
    "        if Verif:\n",
    "            s.Bônus += 10"
   ]
  },
  {
   "attachments": {},
   "cell_type": "markdown",
   "metadata": {},
   "source": [
    "* Nome: Feiticeira\n",
    "* Tipo: mago\n",
    "* Força: 5\n",
    "* Bônus: +5 para cada TERRENO, CLIMA, INUNDAÇÃO e CHAMA."
   ]
  },
  {
   "cell_type": "code",
   "execution_count": 171,
   "metadata": {},
   "outputs": [],
   "source": [
    "class Feiticeira(Carta):\n",
    "    def __init__(s):\n",
    "        super().__init__()\n",
    "        s.Nome = ['Feiticeira']\n",
    "        s.Tipo = ['Mago']\n",
    "        s.Força = 5\n",
    "        s.Efeito = ['Bônus']\n",
    "        s.CitaBon = ['Terreno','Clima', 'Inundação', 'Chama']\n",
    "\n",
    "    def bônus(s, mão, poss, Lista):\n",
    "        for carta in mão.Conjunto:\n",
    "            verif = False\n",
    "            for tipo in carta.Tipo:\n",
    "                if tipo in s.CitaBon:\n",
    "                    Verif = True\n",
    "            s.Bônus += 5"
   ]
  },
  {
   "attachments": {},
   "cell_type": "markdown",
   "metadata": {},
   "source": [
    "* Nome: Bobo da Corte\n",
    "* Tipo: Mago\n",
    "* Força: 3\n",
    "* Bônus: +3 para cada outra carta com um valor de força básica ímpar; ou +50 se todas as cartas de sua mão tiveres valores de força básica ímpar."
   ]
  },
  {
   "cell_type": "code",
   "execution_count": 172,
   "metadata": {},
   "outputs": [],
   "source": [
    "class Bobo_da_Corte(Carta):\n",
    "    def __init__(s):\n",
    "        super().__init__()\n",
    "        s.Nome = ['Bobo da Corte']\n",
    "        s.Tipo = ['Mago']\n",
    "        s.Força = 3\n",
    "        s.Efeito = ['Bônus']\n",
    "\n",
    "    def bônus(s, mão, poss, Lista):\n",
    "        Verif = 0\n",
    "        for carta in mão.Conjunto:\n",
    "            if carta.Força % 2 == 1:\n",
    "                Verif += 1\n",
    "        if Verif == len(mão.Conjunto):\n",
    "            s.Bônus = 50\n",
    "        else:\n",
    "            s.Bônus = (Verif)*3\n",
    "            if s.Força % 2 == 1: # Caso o Bobo da Corte não tenha tido sua força básica alterada para um número par\n",
    "                s.Bônus -= 3"
   ]
  },
  {
   "attachments": {},
   "cell_type": "markdown",
   "metadata": {},
   "source": [
    "* Nome: Rei\n",
    "* Tipo: Líder\n",
    "* Força: 8\n",
    "* Bônus: +5 para cada EXÉRCITO; ou +20 para cada EXÉRCIO se você também tiver a ``Rainha``."
   ]
  },
  {
   "cell_type": "code",
   "execution_count": 173,
   "metadata": {},
   "outputs": [],
   "source": [
    "class Rei(Carta):\n",
    "    def __init__(s):\n",
    "        super().__init__()\n",
    "        s.Nome = ['Rei']\n",
    "        s.Tipo = ['Líder']\n",
    "        s.Força = 8\n",
    "        s.Efeito = ['Bônus']\n",
    "        s.CitaBon = ['Exército']\n",
    "\n",
    "    def bônus(s, mão, poss, Lista):\n",
    "        Consorte = False\n",
    "\n",
    "        for carta in mão.Conjunto:\n",
    "            for nome in carta.Nome:\n",
    "                if nome == 'Rainha':\n",
    "                    Consorte = True\n",
    "\n",
    "        if Consorte:\n",
    "            for carta in mão.Conjunto:\n",
    "                Verif = False\n",
    "                for tipo in carta.Tipo:\n",
    "                    if tipo in s.CitaBon:\n",
    "                        Verif = True\n",
    "                if Verif:\n",
    "                    s.Bônus +=20\n",
    "        else:\n",
    "            for carta in mão.Conjunto:\n",
    "                Verif = False\n",
    "                for tipo in carta.Tipo:\n",
    "                    if tipo in s.CitaBon:\n",
    "                        Verif = True\n",
    "                if Verif:\n",
    "                    s.Bônus += 5"
   ]
  },
  {
   "attachments": {},
   "cell_type": "markdown",
   "metadata": {},
   "source": [
    "* Nome: Rainha\n",
    "* Tipo: Líder\n",
    "* Força: 8\n",
    "* Bônus: +5 para cada EXÉRCITO; ou +20 para cada EXÉRCIO se você também tiver o ``Rei``."
   ]
  },
  {
   "cell_type": "code",
   "execution_count": 174,
   "metadata": {},
   "outputs": [],
   "source": [
    "class Rainha(Carta):\n",
    "    def __init__(s):\n",
    "        super().__init__()\n",
    "        s.Nome = ['Rainha']\n",
    "        s.Tipo = ['Líder']\n",
    "        s.Força = 8\n",
    "        s.Efeito = ['Bônus']\n",
    "        s.CitaBon = ['Exército']\n",
    "\n",
    "    def bônus(s, mão, poss, Lista):\n",
    "        Consorte = False\n",
    "\n",
    "        for carta in mão.Conjunto:\n",
    "            for nome in carta.Nome:\n",
    "                if nome == 'Rei':\n",
    "                    Consorte = True\n",
    "\n",
    "        if Consorte:\n",
    "            for carta in mão.Conjunto:\n",
    "                Verif = False\n",
    "                for tipo in carta.Tipo:\n",
    "                    if tipo in s.CitaBon:\n",
    "                        Verif = True\n",
    "                if Verif:\n",
    "                    s.Bônus +=20\n",
    "        else:\n",
    "            for carta in mão.Conjunto:\n",
    "                Verif = False\n",
    "                for tipo in carta.Tipo:\n",
    "                    if tipo in s.CitaBon:\n",
    "                        Verif = True\n",
    "                if Verif:\n",
    "                    s.Bônus += 5"
   ]
  },
  {
   "attachments": {},
   "cell_type": "markdown",
   "metadata": {},
   "source": [
    "* Nome: Princesa\n",
    "* Tipo: Líder\n",
    "* Força: 2\n",
    "* Bônus: +8 para cada EXÉRCITO, MAGO e outro LÍDER."
   ]
  },
  {
   "cell_type": "code",
   "execution_count": 175,
   "metadata": {},
   "outputs": [],
   "source": [
    "class Princesa(Carta):\n",
    "    def __init__(s):\n",
    "        super().__init__()\n",
    "        s.Nome = ['Princesa']\n",
    "        s.Tipo = ['Líder']\n",
    "        s.Força = 8\n",
    "        s.Efeito = ['Bônus']\n",
    "        s.CitaBon = ['Exército','Mago','Líder']\n",
    "\n",
    "    def bônus(s, mão, poss, Lista):\n",
    "        for carta in mão.Conjunto:\n",
    "            Verif = False\n",
    "            for tipo in carta.Tipo:\n",
    "                if tipo in s.CitaBon:\n",
    "                    Verif = True\n",
    "            if Verif:\n",
    "                s.Bônus += 8\n",
    "                \n",
    "        Verif = False\n",
    "        for tipo in s.Tipo:\n",
    "            if tipo == 'Líder':\n",
    "                Verif = True\n",
    "        if Verif:\n",
    "            s.Bônus -= 8"
   ]
  },
  {
   "attachments": {},
   "cell_type": "markdown",
   "metadata": {},
   "source": [
    "* Nome: Líder Militar\n",
    "* Tipo: Líder\n",
    "* Força: 4\n",
    "* Bônus: A soma da força básica de todos os EXÉRCITOS."
   ]
  },
  {
   "cell_type": "code",
   "execution_count": 176,
   "metadata": {},
   "outputs": [],
   "source": [
    "class Líder_Militar(Carta):\n",
    "    def __init__(s):\n",
    "        super().__init__()\n",
    "        s.Nome = ['Líder Militar']\n",
    "        s.Tipo = ['Líder']\n",
    "        s.Força = 4\n",
    "        s.Efeito = ['Bônus']\n",
    "        s.CitaBon = ['Exército']\n",
    "\n",
    "    def bônus(s, mão, poss, Lista):\n",
    "        for carta in mão.Conjunto:\n",
    "            Verif = False\n",
    "            for tipo in carta.Tipo:\n",
    "                if tipo in s.CitaBon:\n",
    "                    Verif = True\n",
    "            if Verif:\n",
    "                s.Bônus += carta.Força"
   ]
  },
  {
   "attachments": {},
   "cell_type": "markdown",
   "metadata": {},
   "source": [
    "* Nome: Imperatriz\n",
    "* Tipo: Líder\n",
    "* Força: 15\n",
    "* Bônus: +10 para cada EXÉRCITO.\n",
    "* Penalidade: -5 para cada outro LÍDER."
   ]
  },
  {
   "cell_type": "code",
   "execution_count": 177,
   "metadata": {},
   "outputs": [],
   "source": [
    "class Imperatriz(Carta):\n",
    "    def __init__(s):\n",
    "        super().__init__()\n",
    "        s.Nome = ['Imperatriz']\n",
    "        s.Tipo = ['Líder']\n",
    "        s.Força = 15\n",
    "        s.Efeito = ['Bônus','Penalidade']\n",
    "        s.CitaBon = ['Exército']\n",
    "        s.CitaPen = ['Líder']\n",
    "\n",
    "    def bônus(s, mão, poss, Lista):\n",
    "        for carta in mão.Conjunto:\n",
    "            Verif = False\n",
    "            for tipo in carta.Tipo:\n",
    "                if tipo in s.CitaBon:\n",
    "                    Verif = True\n",
    "            if Verif:\n",
    "                s.Bônus += 10\n",
    "    \n",
    "    def penalidade(s, mão, poss, Lista):\n",
    "        for carta in mão.Conjunto:\n",
    "            Verif = False\n",
    "            for tipo in carta.Tipo:\n",
    "                if tipo in s.CitaPen:\n",
    "                    Verif = True\n",
    "            if Verif:\n",
    "                s.Bônus -= 5\n",
    "\n",
    "        Verif = False\n",
    "        for tipo in s.Tipo:\n",
    "            if tipo == 'Líder':\n",
    "                Verif = True\n",
    "        if Verif:\n",
    "            s.Bônus += 5"
   ]
  },
  {
   "attachments": {},
   "cell_type": "markdown",
   "metadata": {},
   "source": [
    "* Nome: Unicórnio\n",
    "* Tipo: Animal\n",
    "* Força: 9\n",
    "* Bõnus: +30 com ``Princesa``; ou +12 com ``Imperatriz``, ``Rainha`` ou ``Feiticeira``."
   ]
  },
  {
   "cell_type": "code",
   "execution_count": 178,
   "metadata": {},
   "outputs": [],
   "source": [
    "class Unicórnio(Carta):\n",
    "    def __init__(s):\n",
    "        super().__init__()\n",
    "        s.Nome = ['Unicórnio']\n",
    "        s.Tipo = ['Animal']\n",
    "        s.Força = 9\n",
    "        s.Efeito = ['Bônus']\n",
    "\n",
    "    def bônus(s, mão, poss, Lista):\n",
    "        for carta in mão.Conjunto:\n",
    "            for nome in carta.Nome:\n",
    "                if nome in ('Imperatriz','Rainha','Feiticeira'):\n",
    "                    s.Bônus = 12\n",
    "        for carta in mão.Conjunto:\n",
    "            for nome in carta.Nome:\n",
    "                if nome == 'Princesa':\n",
    "                    s.Bônus = 30"
   ]
  },
  {
   "attachments": {},
   "cell_type": "markdown",
   "metadata": {},
   "source": [
    "* Nome: Basilisco\n",
    "* Tipo: Animal\n",
    "* Força: 35\n",
    "* Penalidade: Anula todos os EXÉRCITOS, LÍDERES e outros ANIMAIS."
   ]
  },
  {
   "cell_type": "code",
   "execution_count": 179,
   "metadata": {},
   "outputs": [],
   "source": [
    "class Basilisco(Carta):\n",
    "    def __init__(s):\n",
    "        super().__init__()\n",
    "        s.Nome = ['Basilisco']\n",
    "        s.Tipo = ['Animal']\n",
    "        s.Força = 35\n",
    "        s.Efeito = ['Penalidade']\n",
    "        s.CitaPen = ['Exército','Líder','Animal']\n",
    "\n",
    "    # O Basilisco não anula a si próprio, mas anula outra carta que também seja o basilisco\n",
    "        # Se a carta é um dos tipos alvo, e\n",
    "        # Se a carta não é ele mesmo e ele mesmo é animal\n",
    "    def anulação(s, mão, poss, Lista):\n",
    "        for carta in mão.Conjunto:\n",
    "            Verif = False\n",
    "            for tipo in carta.Tipo:\n",
    "                if tipo in s.CitaPen:\n",
    "                    Verif = True\n",
    "            if Verif and carta == s:\n",
    "                for tipo in s.Tipo:\n",
    "                    if tipo == 'Animal':\n",
    "                        Verif = False\n",
    "            if Verif:\n",
    "                carta.anula()"
   ]
  },
  {
   "attachments": {},
   "cell_type": "markdown",
   "metadata": {},
   "source": [
    "* Nome: Cavalo de Guerra\n",
    "* Tipo: Animal\n",
    "* Força: 6\n",
    "* Bônus: +14 com qualquer LÍDER ou MAGO."
   ]
  },
  {
   "cell_type": "code",
   "execution_count": 180,
   "metadata": {},
   "outputs": [],
   "source": [
    "class Cavalo_de_Guerra(Carta):\n",
    "    def __init__(s):\n",
    "        super().__init__()\n",
    "        s.Nome = ['Cavalo de Guerra']\n",
    "        s.Tipo = ['Animal']\n",
    "        s.Força = 6\n",
    "        s.Efeito = ['Bônus']\n",
    "        s.CitaBon = ['Mago','Líder']\n",
    "    def bônus(s, mão, poss, Lista):\n",
    "        for carta in mão.Conjunto:\n",
    "            for tipo in carta.Tipo:\n",
    "                if tipo in s.CitaBon:\n",
    "                    s.Bônus = 14"
   ]
  },
  {
   "attachments": {},
   "cell_type": "markdown",
   "metadata": {},
   "source": [
    "* Nome: Dragão\n",
    "* Tipo: Animal\n",
    "* Força: 30\n",
    "* Penalidade: -40 a menos que você tenha qualquer MAGO."
   ]
  },
  {
   "cell_type": "code",
   "execution_count": 181,
   "metadata": {},
   "outputs": [],
   "source": [
    "class Dragão(Carta):\n",
    "    def __init__(s):\n",
    "        super().__init__()\n",
    "        s.Nome = ['Dragão']\n",
    "        s.Tipo = ['Animal']\n",
    "        s.Força = 30\n",
    "        s.Efeito = ['Penalidade']\n",
    "        s.CitaPen = ['Mago']\n",
    "    def penalidade(s, mão, poss, Lista):\n",
    "        s.Bônus = -40\n",
    "        for carta in mão.Conjunto:\n",
    "            for tipo in carta.Tipo:\n",
    "                if tipo in s.CitaPen:\n",
    "                    s.Bônus = 0"
   ]
  },
  {
   "attachments": {},
   "cell_type": "markdown",
   "metadata": {},
   "source": [
    "* Nome: Hidra\n",
    "* Tipo: Animal\n",
    "* Força: 12\n",
    "* Bônus: +28 com ``Pântano``."
   ]
  },
  {
   "cell_type": "code",
   "execution_count": 182,
   "metadata": {},
   "outputs": [],
   "source": [
    "class Hidra(Carta):\n",
    "    def __init__(s):\n",
    "        super().__init__()\n",
    "        s.Nome = 'Hidra'\n",
    "        s.Tipo = 'Animal'\n",
    "        s.Força = 12\n",
    "        s.Efeito = ['Bônus']\n",
    "    def bônus(s, mão, poss, Lista):\n",
    "        for carta in mão.Conjunto:\n",
    "            for nome in carta.Nome:\n",
    "                if nome == 'Pântano':\n",
    "                    s.Bônus == 28"
   ]
  },
  {
   "attachments": {},
   "cell_type": "markdown",
   "metadata": {},
   "source": [
    "* Nome: Fênix\n",
    "* Tipo: Animal\n",
    "* Força: 14\n",
    "* Bônus: Também conta como carta de CHAMA e de CLIMA.\n",
    "* Penalidade: Anulada com qualquer carta de INUNDAÇÃO.\n",
    "* Se esta carta for anulada por qualquer motivo, sua força básica é reduzida a 0, mas ela mantém seus tipos"
   ]
  },
  {
   "cell_type": "code",
   "execution_count": 183,
   "metadata": {},
   "outputs": [],
   "source": [
    "class Fênix(Carta):\n",
    "    def __init__(s):\n",
    "        super().__init__()\n",
    "        s.Nome = ['Fênix']\n",
    "        s.Tipo = ['Animal']\n",
    "        s.Força = 14\n",
    "        s.Efeito = ['Bônus', 'Penalidade']\n",
    "        s.CitaBon = ['Chama','Clima']\n",
    "        s.CitaPen = ['Inundação']\n",
    "            \n",
    "    def autoanula(s): # Quando a Fênix é anulada, ela mantém seus tipos\n",
    "        s.Nome = []\n",
    "        s.Tipo = ['Animal']\n",
    "        s.Força = 0\n",
    "        s.Efeito = ['Bônus']\n",
    "        s.CitaBon = ['Chama','Clima']\n",
    "        def bônus(s, mão, poss, Lista):\n",
    "            s.Tipo = s.Tipo + s.CitaBon\n",
    "\n",
    "    def seanula(s, mão, poss, Lista):\n",
    "        for carta in mão.Conjunto:\n",
    "            for tipo in carta.Tipo:\n",
    "                if tipo in s.CitaPen:\n",
    "                    s.anula()\n",
    "\n",
    "    def bônus(s, mão, poss, Lista):\n",
    "        s.Tipo = s.Tipo + s.CitaBon"
   ]
  },
  {
   "cell_type": "code",
   "execution_count": 184,
   "metadata": {},
   "outputs": [
    {
     "name": "stdout",
     "output_type": "stream",
     "text": [
      " Fênix, Tipo: Animal, Força: 14, Bônus: 0.\n",
      ", Tipo: Animal, Força: 0, Bônus: 0.\n",
      "\n",
      ", Tipo: Animal Chama Clima, Força: 0, Bônus: 0.\n"
     ]
    }
   ],
   "source": [
    "teste = Fênix()\n",
    "a = None\n",
    "\n",
    "printcard(teste)\n",
    "\n",
    "teste.autoanula()\n",
    "printcard(teste)\n",
    "print()\n",
    "\n",
    "teste.bônus(a,a,a)\n",
    "printcard(teste)"
   ]
  },
  {
   "attachments": {},
   "cell_type": "markdown",
   "metadata": {},
   "source": [
    "* Nome: Navio de Guerra\n",
    "* Tipo: Arma\n",
    "* Força: 23\n",
    "* Penalidade: Anulada a menos que você tenha qualquer INUNDAÇÃO.\n",
    "* Bônus: Remove a palavra EXÉRCITO de todas as penalidade de todas as INUNDAÇÕES."
   ]
  },
  {
   "cell_type": "code",
   "execution_count": 185,
   "metadata": {},
   "outputs": [],
   "source": [
    "class Navio_de_Guerra(Carta):\n",
    "    def __init__(s):\n",
    "        super().__init__()\n",
    "        s.Nome = ['Navio de Guerra']\n",
    "        s.Tipo = ['Arma']\n",
    "        s.Força = 23\n",
    "        s.Efeito = ['Bônus', 'Penalidade']\n",
    "        s.CitaBon = ['Exército','Inundação']\n",
    "        s.CitaPen = ['Inundação']\n",
    "\n",
    "    def remoção(s, mão, poss, Lista):\n",
    "        for carta in mão.Conjunto:\n",
    "            Verif = False\n",
    "            for tipo in carta.Tipo:\n",
    "                if tipo == s.CitaBon[1]:\n",
    "                    Verif = True\n",
    "            if Verif:\n",
    "                for i in range(len(carta.CitaPen)):\n",
    "                    if carta.CitaPen[i] == s.CitaBon[0]:\n",
    "                        carta.CitaPen[i] == ''\n",
    "\n",
    "    def seanula(s, mão, poss, Lista):\n",
    "        Verif = True\n",
    "        for carta in mão.Conjunto:\n",
    "            for tipo in carta.Tipo:\n",
    "                if carta.Tipo in s.CitaPen:\n",
    "                    Verif = False\n",
    "        if Verif:\n",
    "            s.anula()"
   ]
  },
  {
   "attachments": {},
   "cell_type": "markdown",
   "metadata": {},
   "source": [
    "* Nome: Varinha Mágica\n",
    "* Tipo: Arma\n",
    "* Força: 1\n",
    "* Bônus: +25 com qualquer MAGO."
   ]
  },
  {
   "cell_type": "code",
   "execution_count": 186,
   "metadata": {},
   "outputs": [],
   "source": [
    "class Varinha_Mágica(Carta):\n",
    "    def __init__(s):\n",
    "        super().__init__()\n",
    "        s.Nome = ['Varinha Mágica']\n",
    "        s.Tipo = ['Arma']\n",
    "        s.Força = 1\n",
    "        s.Efeito = ['Bônus']\n",
    "        s.CitaBon = ['Mago']\n",
    "    def bônus(s, mão, poss, Lista):\n",
    "        for carta in mão.Conjunto:\n",
    "            for tipo in carta.Tipo:\n",
    "                if tipo in s.CitaBon:\n",
    "                    s.Bônus = 25"
   ]
  },
  {
   "attachments": {},
   "cell_type": "markdown",
   "metadata": {},
   "source": [
    "* Nome: Espada de Keth\n",
    "* Tipo: Arma\n",
    "* Força: 7\n",
    "* Bônus: +10 com qualquer LÍDER; ou +40 com qualquer LÍDER e ``Escudo de Keth``."
   ]
  },
  {
   "cell_type": "code",
   "execution_count": 187,
   "metadata": {},
   "outputs": [],
   "source": [
    "class Espada_de_Keth(Carta):\n",
    "    def __init__(s):\n",
    "        super().__init__()\n",
    "        s.Nome = ['Espada de Keth']\n",
    "        s.Tipo = ['Arma']\n",
    "        s.Força = 7\n",
    "        s.Efeito = ['Bônus']\n",
    "        s.CitaBon = ['Líder']\n",
    "    def bônus(s, mão, poss, Lista):\n",
    "        Verif = False\n",
    "        for carta in mão.Conjunto:\n",
    "            for nome in carta.Nome:\n",
    "                if nome == \"Escudo de Keth\":\n",
    "                    Verif = True\n",
    "        if Verif:\n",
    "            for carta in mão.Conjunto:\n",
    "                for tipo in carta.Tipo:\n",
    "                    if tipo in s.CitaBon:\n",
    "                        s.Bônus = 40\n",
    "        else:\n",
    "            for carta in mão.Conjunto:\n",
    "                for tipo in carta.Tipo:\n",
    "                    if tipo in s.CitaBon:\n",
    "                        s.Bônus = 10"
   ]
  },
  {
   "attachments": {},
   "cell_type": "markdown",
   "metadata": {},
   "source": [
    "* Nome: Arco Longo Élfico\n",
    "* Tipo: Arma\n",
    "* Força: 3\n",
    "* Bônus: +30 com ``Arqueiros Elfos``, ``Líder Militar`` ou ``Mestre dos Animais``."
   ]
  },
  {
   "cell_type": "code",
   "execution_count": 188,
   "metadata": {},
   "outputs": [],
   "source": [
    "class Arco_Longo_Élfico(Carta):\n",
    "    def __init__(s):\n",
    "        super().__init__()\n",
    "        s.Nome = ['Arco Longo Élfico']\n",
    "        s.Tipo = ['Arma']\n",
    "        s.Força = 3\n",
    "        s.Efeito = ['Bônus']\n",
    "    \n",
    "    def bônus(s, mão, poss, Líder):\n",
    "        for carta in mão.Conjunto:\n",
    "            for nome in carta.Nome:\n",
    "                if nome in ['Arqueiros Elfos', 'Líder Militar', 'Mestre dos Animais']:\n",
    "                    s.Bônus = 30"
   ]
  },
  {
   "attachments": {},
   "cell_type": "markdown",
   "metadata": {},
   "source": [
    "* Nome: Dirigível de Guerra\n",
    "* Tipo: Arma\n",
    "* Força: 35\n",
    "* Penalidade: Anulado a menos que você tenha qualquer EXÉRCITO. Anulado com qualquer CLIMA."
   ]
  },
  {
   "cell_type": "code",
   "execution_count": 189,
   "metadata": {},
   "outputs": [],
   "source": [
    "class Dirigível_de_Guerra(Carta):\n",
    "    def __init__(s):\n",
    "        super().__init__()\n",
    "        s.Nome = ['Dirigível de Guerra']\n",
    "        s.Tipo = ['Arma']\n",
    "        s.Força = 35\n",
    "        s.Efeito = ['Penalidade']\n",
    "        s.CitaPen = ['Exército','Clima']\n",
    "        \n",
    "    def seanula(s, mão, poss, Lista):\n",
    "        Verif = True\n",
    "        for carta in mão.Conjunto:\n",
    "            for tipo in carta.Tipo:\n",
    "                if tipo == s.CitaPen[0]:\n",
    "                    Verif = False\n",
    "        for carta in mão.Conjunto:\n",
    "            for tipo in carta.Tipo:\n",
    "                if tipo == s.CitaPen[1]:\n",
    "                    Verif = True\n",
    "        if Verif:\n",
    "            s.anula()"
   ]
  },
  {
   "attachments": {},
   "cell_type": "markdown",
   "metadata": {},
   "source": [
    "* Nome:  Escudo de Keth\n",
    "* Tipo: Artefato\n",
    "* Força: 4\n",
    "* Bônus: +15 com qualquer LÍDER; ou +40 com qualquer LÍDER e ``Espada de Keth``."
   ]
  },
  {
   "cell_type": "code",
   "execution_count": 190,
   "metadata": {},
   "outputs": [],
   "source": [
    "class Escudo_de_Keth(Carta):\n",
    "    def __init__(s):\n",
    "        super().__init__()\n",
    "        s.Nome = ['Escudo de Keth']\n",
    "        s.Tipo = ['Artefato']\n",
    "        s.Força = 4\n",
    "        s.Efeito = ['Bônus']\n",
    "        s.CitaBon = ['Líder']\n",
    "    def bônus(s, mão, poss, Lista):\n",
    "        Verif = False\n",
    "        for carta in mão.Conjunto:\n",
    "            for nome in carta.Nome:\n",
    "                if nome == \"Espada de Keth\":\n",
    "                    Verif = True\n",
    "        if Verif:\n",
    "            for carta in mão.Conjunto:\n",
    "                for tipo in carta.Tipo:\n",
    "                    if tipo in s.CitaBon:\n",
    "                        s.Bônus = 40\n",
    "        else:\n",
    "            for carta in mão.Conjunto:\n",
    "                for tipo in carta.Tipo:\n",
    "                    if tipo in s.CitaBon:\n",
    "                        s.Bônus = 15"
   ]
  },
  {
   "attachments": {},
   "cell_type": "markdown",
   "metadata": {},
   "source": [
    "* Nome: Gema da Ordem\n",
    "* Tipo: Artefato\n",
    "* Força: 5\n",
    "* Bônus: +10 para uma sequência de 3 cartas. +30 para uma sequência de 4 cartas. +60 para uma sequência de 5 cartas. +100 para uma sequência de 6 cartas. +150 para uma sequência de 7 cartas. (Refere-se aos valores de força básica.)"
   ]
  },
  {
   "cell_type": "code",
   "execution_count": 191,
   "metadata": {},
   "outputs": [],
   "source": [
    "class Gema_da_Ordem(Carta):\n",
    "    def __init__(s):\n",
    "        super().__init__()\n",
    "        s.Nome = ['Gema da Ordem']\n",
    "        s.Tipo = ['Artefato']\n",
    "        s.Força = 5\n",
    "        s.Efeito = ['Bônus']\n",
    "\n",
    "    def bônus(s, mão, poss, Lista):\n",
    "        forças = sorted(set([carta.Força for carta in mão.Conjunto]))\n",
    "\n",
    "        sequências = []\n",
    "        i = 0\n",
    "        while i < len(forças): # enquanto i não marcar o tamanho da lista (além do último índice)\n",
    "            j = i + 1 # j será o próximo índice, depois de i\n",
    "            while j < len(forças) and forças[j] == forças[j-1] + 1: # enquanto o próximo (números[j]) estiver nos limites da lista E o próximo número for igual ao número anterior (j-1) +1\n",
    "                j += 1 # adiciona 1 ao índice j\n",
    "            sequências.append(forças[i:j]) # a nova lista recebe uma lista com esses números\n",
    "            i = j\n",
    "\n",
    "        maior_sequência = max(sequências, key=len)\n",
    "        #print('BREMA:',type(maior_sequência))\n",
    "        \n",
    "        if len(maior_sequência) == 3:\n",
    "            s.Bônus = 10\n",
    "        if len(maior_sequência) == 4:\n",
    "            s.Bônus = 30\n",
    "        if len(maior_sequência) == 5:\n",
    "            s.Bônus = 60\n",
    "        if len(maior_sequência) == 6:\n",
    "            s.Bônus = 100\n",
    "        if len(maior_sequência) > 6:\n",
    "            s.Bônus = 150"
   ]
  },
  {
   "cell_type": "code",
   "execution_count": 192,
   "metadata": {},
   "outputs": [
    {
     "name": "stdout",
     "output_type": "stream",
     "text": [
      "6\n"
     ]
    }
   ],
   "source": [
    "numeros = sorted(set([3, 4, 8, 7, 9, 10, 11, 1, 2, 3, 3, 5, 0 ]))\n",
    "\n",
    "sequencias = []\n",
    "i = 0\n",
    "while i < len(numeros): # enquanto i não marcar o tamanho da lista (além do último índice)\n",
    "    j = i + 1 # j será o próximo índice, depois de i\n",
    "    while j < len(numeros) and numeros[j] == numeros[j-1] + 1: # enquanto o próximo (números[j]) estiver nos limites da lista E o próximo número for igual ao número anterior (j-1) +1\n",
    "        j += 1 # adiciona 1 ao índice j\n",
    "    sequencias.append(numeros[i:j]) # a nova lista recebe uma lista com esses números\n",
    "    i = j\n",
    "\n",
    "maior_sequencia = max(sequencias, key=len)\n",
    "print(len(maior_sequencia))"
   ]
  },
  {
   "attachments": {},
   "cell_type": "markdown",
   "metadata": {},
   "source": [
    "* Nome: Árvore do Mundo\n",
    "* Tipo: Artefato\n",
    "* Força: 2\n",
    "* Bônus: +50 se cada carta não anulada for de um tipo diferente."
   ]
  },
  {
   "cell_type": "code",
   "execution_count": 193,
   "metadata": {},
   "outputs": [],
   "source": [
    "class Árvore_do_Mundo(Carta):\n",
    "    def __init__(s):\n",
    "        super().__init__()\n",
    "        s.Nome = ['Árvore do Mundo']\n",
    "        s.Tipo = ['Artefato']\n",
    "        s.Força = 2\n",
    "        s.Efeito = ['Bônus']\n",
    "\n",
    "    def bônus(s, mão, poss, Lista):\n",
    "        Dicttipos = {}\n",
    "        for carta in mão.Conjunto:\n",
    "            for tipo in carta.Tipo:\n",
    "                if tipo not in Dicttipos.keys():\n",
    "                    Dicttipos[tipo] = 0\n",
    "                else:\n",
    "                    Dicttipos[tipo] +=1\n",
    "        if sum(Dicttipos.values()) == 0:\n",
    "            s.Bônus = 50"
   ]
  },
  {
   "cell_type": "code",
   "execution_count": 194,
   "metadata": {},
   "outputs": [
    {
     "name": "stdout",
     "output_type": "stream",
     "text": [
      "{'Animal': 0,\n",
      " 'Artefato': 0,\n",
      " 'Chama': 1,\n",
      " 'Clima': 1,\n",
      " 'Exército': 0,\n",
      " 'Líder': 0,\n",
      " 'Terreno': 0}\n",
      "0\n"
     ]
    }
   ],
   "source": [
    "# Teste\n",
    "Dict = {}\n",
    "\n",
    "n=['Chama','Clima','Artefato','Exército','Líder','Terreno','Animal']\n",
    "\n",
    "L = conjunto_teste(n)\n",
    "\n",
    "##\n",
    "\n",
    "Dicttipos = {}\n",
    "for carta in L:\n",
    "    for tipo in carta.Tipo:\n",
    "        if tipo not in Dicttipos.keys():\n",
    "            Dicttipos[tipo] = 0\n",
    "        else:\n",
    "            Dicttipos[tipo] +=1\n",
    "\n",
    "pprint(Dicttipos)\n",
    "\n",
    "B=0\n",
    "if sum(Dicttipos.values()) == 0:\n",
    "    B = 50\n",
    "print(B)"
   ]
  },
  {
   "attachments": {},
   "cell_type": "markdown",
   "metadata": {},
   "source": [
    "* Nome: Livro da Transfiguração\n",
    "* Tipo: Artefato\n",
    "* Força: 3\n",
    "* Bônus: Você pode modificar o tipo de uma carta. Seu nome, bônus e penalidades permanecem inalterados."
   ]
  },
  {
   "cell_type": "code",
   "execution_count": 195,
   "metadata": {},
   "outputs": [],
   "source": [
    "class Livro_da_Transfiguração(Carta):\n",
    "    def __init__(s):\n",
    "        super().__init__()\n",
    "        s.Nome = ['Livro da Transfiguração']\n",
    "        s.Tipo = ['Artefato']\n",
    "        s.Força = 3\n",
    "        s.Efeito = ['Bônus']\n",
    "    def opções(s, mão, Lista):\n",
    "        Decisões = {}\n",
    "        Decisões['Livro (Alvo)'] = []\n",
    "        for carta in mão.Conjunto:\n",
    "            Decisões['Livro (Alvo)'].append(mão.Conjunto.index(carta))\n",
    "        Decisões['Livro (Tipo)'] = ['Exército','Artefato','Animal','Chama','Inundação','Terreno','Líder','Arma','Clima','Coringa','Mago','Morto-Vivo']\n",
    "        for i,j in Decisões.items():\n",
    "            mão.Poss[i] = j\n",
    "    def livro(s, mão, poss, Lista):\n",
    "        if 'Livro (Alvo)' in poss and 'Livro (Tipo)' in poss:\n",
    "            index = poss['Livro (Alvo)'] # reserva um int que serve de índice\n",
    "            mão.Conjunto[index].Tipo = [poss['Livro (Tipo)']]\n",
    "            # A carta naquele índice tem seus tipos alterados para o escolhido.\n",
    "        "
   ]
  },
  {
   "attachments": {},
   "cell_type": "markdown",
   "metadata": {},
   "source": [
    "* Nome: Runa de Proteção\n",
    "* Tipo: Artefato\n",
    "* Força: 1\n",
    "* Bônus: Remove a penalidade em todas as cartas."
   ]
  },
  {
   "attachments": {},
   "cell_type": "markdown",
   "metadata": {},
   "source": [
    "**CONTINUE =D**"
   ]
  },
  {
   "cell_type": "code",
   "execution_count": 196,
   "metadata": {},
   "outputs": [],
   "source": [
    "class Runa_de_Proteção(Carta):\n",
    "    def __init__(s):\n",
    "        super().__init__()\n",
    "        s.Nome = ['Runa de Proteção']\n",
    "        s.Tipo = ['Artefato']\n",
    "        s.Força = 1\n",
    "        s.Efeito = ['Bônus']\n",
    "\n",
    "    def remoção(s, mão, poss, Lista):\n",
    "        for carta in mão.Conjunto:\n",
    "            carta.autoremoção()\n"
   ]
  },
  {
   "attachments": {},
   "cell_type": "markdown",
   "metadata": {},
   "source": [
    "* Nome: Metamorfo\n",
    "* Tipo: Coringa\n",
    "* Força: 0\n",
    "* Pode duplicar o nome e o tipo de qualquer ARTEFATO, MAGO, ARMA ou ANIMAL. Não afeta os bônus, penalidades ou a força básica da carta duplicada."
   ]
  },
  {
   "cell_type": "code",
   "execution_count": 197,
   "metadata": {},
   "outputs": [],
   "source": [
    "class Metamorfo(Carta):\n",
    "    def __init__(s):\n",
    "        super().__init__()\n",
    "        s.Nome = ['Metamorfo']\n",
    "        s.Tipo = ['Coringa']\n",
    "        s.Força = 0\n",
    "        s.Efeito = []\n",
    "        s.CitaBon = ['Artefato','Mago','Arma','Animal']\n",
    "    def opções(s, mão, Lista):\n",
    "        Decisões = {}\n",
    "        Decisões['Metamorfo'] = []\n",
    "        for carta in Lista:\n",
    "            Verif = False\n",
    "            for tipo in carta.Tipo:\n",
    "                if tipo in s.CitaBon:\n",
    "                    Verif = True\n",
    "            if Verif:\n",
    "                Decisões['Metamorfo'].append(Lista.index(carta))\n",
    "        for i,j in Decisões.items():\n",
    "            mão.Poss[i] = j\n",
    "    def metamorfo(s, mão, poss, Lista):\n",
    "        if 'Metamorfo' in poss:\n",
    "            index = poss['Metamorfo'] # reserva um int que serve de índice\n",
    "            s.Nome = Lista[index].Nome\n",
    "            s.Tipo = Lista[index].Tipo\n",
    "        "
   ]
  },
  {
   "attachments": {},
   "cell_type": "markdown",
   "metadata": {},
   "source": [
    "* Nome: Miragem\n",
    "* Tipo: Coringa\n",
    "* Força: 0\n",
    "* Pode duplicar o nome e o tipo de qualquer um EXÉRCITO, TERRENO, CLIMA, INUNDAÇÃO ou CHAMA no jogo. Não afeta os bônus, as penalidades ou a força básica da carta duplicada."
   ]
  },
  {
   "cell_type": "code",
   "execution_count": 198,
   "metadata": {},
   "outputs": [],
   "source": [
    "class Miragem(Carta):\n",
    "    def __init__(s):\n",
    "        super().__init__()\n",
    "        s.Nome = ['Miragem']\n",
    "        s.Tipo = ['Coringa']\n",
    "        s.Força = 0\n",
    "        s.Efeito = []\n",
    "        s.CitaBon = ['Exército','Terreno','Clima','Inundação','Chama']\n",
    "    def opções(s, mão, Lista):\n",
    "        Decisões = {}\n",
    "        Decisões['Miragem'] = []\n",
    "        for carta in Lista:\n",
    "            Verif = False\n",
    "            for tipo in carta.Tipo:\n",
    "                if tipo in s.CitaBon:\n",
    "                    Verif = True\n",
    "            if Verif:\n",
    "                Decisões['Miragem'].append(Lista.index(carta))\n",
    "        for i,j in Decisões.items():\n",
    "            mão.Poss[i] = j\n",
    "    def miragem(s, mão, poss, Lista):\n",
    "        if 'Miragem' in poss:\n",
    "            if mão.Debug:\n",
    "                print('Mirage executando Miragem: ',poss['Miragem'])\n",
    "            index = poss['Miragem'] # reserva um int que serve de índice\n",
    "            s.Nome = Lista[index].Nome\n",
    "            s.Tipo = Lista[index].Tipo"
   ]
  },
  {
   "attachments": {},
   "cell_type": "markdown",
   "metadata": {},
   "source": [
    "* Nome: Doppelgänger\n",
    "* Tipo: Coringa\n",
    "* Força: 0\n",
    "* Pode duplicar o nome, a força básica, o tipo e a penalidade, mas não o bônus, de qualquer outra carta em sua mão."
   ]
  },
  {
   "cell_type": "code",
   "execution_count": 199,
   "metadata": {},
   "outputs": [],
   "source": [
    "class Doppelgänger(Carta):\n",
    "    def __init__(s):\n",
    "        super().__init__()\n",
    "        s.Nome = ['Doppelgänger']\n",
    "        s.Tipo = ['Coringa']\n",
    "        s.Força = 0\n",
    "        s.Efeito = []\n",
    "        s.CitaBon = ['Exército','Terreno','Clima','Inundação','Chama']\n",
    "    def opções(s, mão, Lista):\n",
    "        Decisões = {}\n",
    "        Decisões['Doppelgänger'] = []\n",
    "        for carta in mão.Conjunto:\n",
    "            for tipo in carta.Tipo:\n",
    "                if tipo in s.CitaBon:\n",
    "                    Decisões['Doppelgänger'].append(mão.Conjunto.index(carta))\n",
    "        for i,j in Decisões.items():\n",
    "            mão.Poss[i] = j\n",
    "    def doppelgänger(s, mão, poss, Lista):\n",
    "        if 'Doppelgänger' in poss:\n",
    "            index = poss['Doppelgänger'] # reserva um int que serve de índice\n",
    "            s.Nome = mão.Conjunto[index].Nome\n",
    "            s.Tipo = mão.Conjunto[index].Tipo\n",
    "            s.Força = mão.Conjunto[index].Força\n",
    "            s.penalidade = mão.Conjunto[index].penalidade"
   ]
  },
  {
   "attachments": {},
   "cell_type": "markdown",
   "metadata": {},
   "source": [
    "## Classes dos Continentes"
   ]
  },
  {
   "attachments": {},
   "cell_type": "markdown",
   "metadata": {},
   "source": [
    "Mão: Conjunto e Possibilidades\n",
    "* Conjunto: 7 cartas em uma combinação única.\n",
    "* Possibilidades: Para cada carta, um conjunto de escolhas. Cada possibilidade é uma combinações de conjuntos de escolhas."
   ]
  },
  {
   "cell_type": "code",
   "execution_count": 200,
   "metadata": {},
   "outputs": [],
   "source": [
    "class Mão:\n",
    "    def __init__(s,Conjunto, Debug=False):\n",
    "        s.FixConj = list(Conjunto)\n",
    "        s.Conjunto = s.FixConj.copy()\n",
    "        s.Poss = {}\n",
    "        s.Possibilidade = []\n",
    "        s.Maior_Pontuação = 0\n",
    "        s.Melhores_Escolhas = []\n",
    "        s.Debug = Debug\n",
    "\n",
    "    def criaPossibilidade(s, Lista):\n",
    "        for carta in s.Conjunto:\n",
    "            if s.Debug:\n",
    "                print(carta.Nome,'está tentando gerar opções:')\n",
    "                print('Antes:',s.Poss)\n",
    "            carta.opções(s,Lista)\n",
    "            if s.Debug:\n",
    "                print('Depois:',s.Poss)\n",
    "\n",
    "        # Algumas cartas não encontram alvos válidos, e isso pode gerar listas vazias.\n",
    "        # O restante do código falhará se encontrar uma lista pela qual não puder iterar.\n",
    "        if s.Debug:\n",
    "            print('s.Poss antes do filtro:',s.Poss)\n",
    "        s.Poss = {k:v for k,v in s.Poss.items() if v}\n",
    "        if s.Debug:\n",
    "            print('s.Poss depois do filtro:',s.Poss)\n",
    "\n",
    "        s.Possibilidade = []\n",
    "\n",
    "        # Gerar todas as combinações possíveis de valores dentro das listas do dicionário \"Poss\"\n",
    "        valores_poss = [s.Poss[k] for k in s.Poss]\n",
    "        combinações = list(itertools.product(*valores_poss))\n",
    "\n",
    "        # Montar os dicionários e adicioná-los à lista \"Possibilidades\"\n",
    "        for combinação in combinações:\n",
    "            dict_comb = {}\n",
    "            for i, valor in enumerate(combinação):\n",
    "                chave = list(s.Poss.keys())[i]\n",
    "                dict_comb[chave] = valor\n",
    "            s.Possibilidade.append(dict_comb)\n",
    "        \n",
    "        for i in s.Possibilidade:\n",
    "            i['Válida'] = True\n",
    "            i['Pontuação'] = 0\n",
    "\n",
    "        if not s.Possibilidade:\n",
    "            s.Possibilidade = [{'Válidada':True, 'Pontuação':0}]\n",
    "        \n",
    "    def cálculo(s, Lista):\n",
    "        for poss in s.Possibilidade:\n",
    "            s.Conjunto = []\n",
    "            for carta in s.FixConj:\n",
    "                s.Conjunto.append(carta.copy())\n",
    "\n",
    "            #print('###\\n') #?\n",
    "            #print(poss,'\\n') #?\n",
    "            #print('# Conjunto Fixo - Antes #') #?\n",
    "            #printcardlist(s.FixConj) #?\n",
    "            #print('# Conjunto Variável - Antes #') #?\n",
    "            #printcardlist(s.Conjunto) #?\n",
    "\n",
    "            # Fim de Jogo\n",
    "            poss['Pontuação'] = 0\n",
    "            for carta in s.Conjunto:\n",
    "                if s.Debug:\n",
    "                    print(carta.Nome,'está tentando executar efeito de fim de jogo.') #?\n",
    "                    print('')\n",
    "                carta.fimdejogo(s, poss, Lista)\n",
    "                if s.Debug:\n",
    "                    print(carta.Nome,'fez efeito de fim de jogo.') #?\n",
    "\n",
    "            # doppelgänger\n",
    "            for carta in s.Conjunto:\n",
    "                carta.doppelgänger(s, poss, Lista)\n",
    "                if s.Debug:\n",
    "                    print(carta.Nome,'fez doppengänger.') #?\n",
    "\n",
    "            # miragem\n",
    "            for carta in s.Conjunto:\n",
    "                carta.miragem(s, poss, Lista)\n",
    "                if s.Debug:\n",
    "                    print(carta.Nome,'fez miragem.') #?\n",
    "\n",
    "            # metamorfo\n",
    "            for carta in s.Conjunto:\n",
    "                carta.metamorfo(s, poss, Lista)\n",
    "                if s.Debug:\n",
    "                    print(carta.Nome,'metamorfoseou.') #?\n",
    "\n",
    "            # livro\n",
    "            for carta in s.Conjunto:\n",
    "                carta.livro(s, poss, Lista)\n",
    "                if s.Debug:\n",
    "                    print(carta.Nome,'transfigurou.') #?\n",
    "\n",
    "            # Aumento dos tipos\n",
    "            for carta in s.Conjunto:\n",
    "                carta.tipos(s, poss, Lista)\n",
    "                if s.Debug:\n",
    "                    print(carta.Nome,'tem mais tipos.') #?\n",
    "\n",
    "            # Remoção de penalidade\n",
    "            for carta in s.Conjunto:\n",
    "                carta.remoção(s, poss, Lista)\n",
    "                if s.Debug:\n",
    "                    print(carta.Nome,'removeu penalidades.') #?\n",
    "\n",
    "            # Anulação alheia\n",
    "            for carta in s.Conjunto:\n",
    "                carta.anulação(s, poss, Lista)\n",
    "                if s.Debug:\n",
    "                    print(carta.Nome,'anulou.') #?\n",
    "            for carta in s.Conjunto:\n",
    "                if carta.Anulada:\n",
    "                    if s.Debug:\n",
    "                        print(carta.Nome,'está se anulando.') #?\n",
    "                    carta.autoanula()\n",
    "\n",
    "            # Anulação própria\n",
    "            for carta in s.Conjunto:\n",
    "                carta.seanula(s, poss, Lista)\n",
    "                if s.Debug:\n",
    "                    print(carta.Nome,'anulou.') #?\n",
    "            for carta in s.Conjunto:\n",
    "                if carta.Anulada:\n",
    "                    if s.Debug:\n",
    "                        print(carta.Nome,'está se anulando.') #?\n",
    "                    carta.autoanula()\n",
    "\n",
    "            # Penalidades não removidas\n",
    "            for carta in s.Conjunto:\n",
    "                if s.Debug:\n",
    "                    print(carta.Nome,'tentando penalizar') #?\n",
    "                if carta.SemPenalidade == False:\n",
    "                    if s.Debug:\n",
    "                        print(carta.Nome,'penalizou.') #?\n",
    "                    carta.penalidade(s, poss, Lista)\n",
    "\n",
    "            # Bônus\n",
    "            for carta in s.Conjunto:\n",
    "                carta.bônus(s, poss, Lista)\n",
    "                if s.Debug:\n",
    "                    print(carta.Nome,'bonificou.') #?\n",
    "            #print(8,s.Conjunto[6].Nome,s.Conjunto[6].SemPenalidade) #?\n",
    "\n",
    "            # \n",
    "            if s.Debug:\n",
    "                print('   Depuração:')\n",
    "                for carta in s.Conjunto: # ?\n",
    "                    carta.depuração() # ?\n",
    "            \n",
    "            # \n",
    "            for carta in s.Conjunto:\n",
    "                poss['Pontuação'] += carta.Força\n",
    "                poss['Pontuação'] += carta.Bônus\n",
    "\n",
    "            poss['Mão'] = {}\n",
    "\n",
    "            # Adiciona o bônus de cada carta à possibilidade calculada.\n",
    "            for carta in s.Conjunto:\n",
    "                index = s.Conjunto.index(carta)\n",
    "                if index < len(s.FixConj):\n",
    "                    poss['Mão'][s.FixConj[index].Nome[0]] = str(carta.Força)+' + '+str(carta.Bônus)+', '+str(carta.Tipo)+', '+'Anul/Rem: '+', '+str(carta.Anulada)+'/'+str(carta.SemPenalidade)\n",
    "                else:\n",
    "                    poss['Mão'][carta.Nome[0]] = str(carta.Força)+' + '+str(carta.Bônus)+' + '+str(carta.Tipo)\n",
    "\n",
    "            # Adiciona o bônus de cada carta à possibilidade calculada.\n",
    "            # Como estava antes\n",
    "            #for carta in s.Conjunto:\n",
    "                #poss['Bônus'][carta.Nome[0]] = carta.Bônus\n",
    "\n",
    "        if s.Debug:\n",
    "            pprint(s.Possibilidade)\n",
    "        \n",
    "    def filtro(s): #Seleciona a melhor, ou melhores, escolhas.\n",
    "        s.Maior_Pontuação = max(s.Possibilidade, key=lambda x: x['Pontuação'])['Pontuação']\n",
    "        s.Melhores_Escolhas = [poss for poss in s.Possibilidade if poss['Pontuação'] == s.Maior_Pontuação]"
   ]
  },
  {
   "cell_type": "code",
   "execution_count": 201,
   "metadata": {},
   "outputs": [],
   "source": [
    "class Jogo:\n",
    "    def __init__(s, Lista, Debug = False):\n",
    "        # Lista contém todas as cartas\n",
    "        s.Lista = Lista\n",
    "        Commbinações = itertools.combinations(s.Lista, 7)\n",
    "        Commbinações = list(Commbinações)\n",
    "        s.Jogo = [] # Contém todas as combinações de 7 cartas\n",
    "\n",
    "        for i in Commbinações:\n",
    "            s.Jogo.append(Mão(list(i),Debug)) \n",
    "            \n",
    "        #for i in s.Jogo:\n",
    "            #print('   ',type(i)) #s.Jogos passa a conter mãos de cartas\n",
    "            #print('   ',type(i.Conjunto)) #s.Jogos passa a conter mãos de cartas\n",
    "            #for j in i.Conjunto:\n",
    "                #printcard(j)\n",
    "        \n",
    "        print(len(s.Jogo), 'mãos geradas.')\n",
    "\n",
    "\n",
    "    def gerapontos(s):\n",
    "        for mão in s.Jogo:\n",
    "            mão.criaPossibilidade(s.Lista)\n",
    "            #pprint(mão.Possibilidade)\n",
    "            mão.cálculo(s.Lista)\n",
    "\n",
    "    def mostrajogo(s):\n",
    "        for mão in s.Jogo:\n",
    "            for carta in mão.FixConj:\n",
    "                printcard(carta)\n",
    "            pprint(mão.Possibilidade)\n",
    "            print()\n",
    "\n",
    "    def relação(s):\n",
    "        for mão in s.Jogo:\n",
    "            mão.filtro()\n",
    "\n",
    "        # Ordena a lista de objetos com base no atributo \"Maior_Pontuação\"\n",
    "        s.Relatório = sorted(s.Jogo, key=lambda x: x.Maior_Pontuação, reverse = True)\n",
    "\n",
    "        for R in s.Relatório:\n",
    "            pprint(R.Melhores_Escolhas)\n",
    "            print()"
   ]
  },
  {
   "attachments": {},
   "cell_type": "markdown",
   "metadata": {},
   "source": [
    "## Criação da Coleção"
   ]
  },
  {
   "cell_type": "code",
   "execution_count": 202,
   "metadata": {},
   "outputs": [
    {
     "data": {
      "text/plain": [
       "55"
      ]
     },
     "execution_count": 202,
     "metadata": {},
     "output_type": "execute_result"
    }
   ],
   "source": [
    "Lista = [Montanha(),\n",
    "         Caverna(),\n",
    "         Torre_do_Sino(),\n",
    "         Floresta(),\n",
    "         Elemental_da_Terra(),\n",
    "\n",
    "         Fonte_da_Vida(),\n",
    "         Pântano(),\n",
    "         Grande_Inundação(),\n",
    "         Ilha(),\n",
    "         Elemental_da_Água(),\n",
    "\n",
    "         Tempestade(),\n",
    "         Nevasca(),\n",
    "         Fumaça(),\n",
    "         Furacão(),\n",
    "         Elemental_do_Ar(),\n",
    "         \n",
    "         Incêndio(),\n",
    "         Vela(),\n",
    "         Forja(),\n",
    "         Relâmpago(),\n",
    "         Elemental_do_Fogo(),\n",
    "        \n",
    "         Cavaleiros(),\n",
    "         Arqueiros_Elfos(),\n",
    "         Cavalaria_Leve(),\n",
    "         Infantaria_Anã(),\n",
    "         Patrulheiros(),\n",
    "\n",
    "         Colecionador(),\n",
    "         Mestre_dos_Animais(),\n",
    "         Necromante(),\n",
    "         Lorde_dos_Bruxos(),\n",
    "         Feiticeira(),\n",
    "         Bobo_da_Corte(),\n",
    "\n",
    "         Rei(),\n",
    "         Rainha(),\n",
    "         Princesa(),\n",
    "         Líder_Militar(),\n",
    "         Imperatriz(),\n",
    "\n",
    "         Unicórnio(),\n",
    "         Basilisco(),\n",
    "         Cavalo_de_Guerra(),\n",
    "         Dragão(),\n",
    "         Hidra(),\n",
    "         Fênix(),\n",
    "\n",
    "         Navio_de_Guerra(),\n",
    "         Varinha_Mágica(),\n",
    "         Espada_de_Keth(),\n",
    "         Arco_Longo_Élfico(),\n",
    "         Dirigível_de_Guerra(),\n",
    "         \n",
    "         Escudo_de_Keth(),\n",
    "         Gema_da_Ordem(),\n",
    "         Árvore_do_Mundo(),\n",
    "         Livro_da_Transfiguração(),\n",
    "         Runa_de_Proteção(),\n",
    "         \n",
    "         Metamorfo(),\n",
    "         Miragem(),\n",
    "         Doppelgänger()]\n",
    "\n",
    "len(Lista)"
   ]
  },
  {
   "attachments": {},
   "cell_type": "markdown",
   "metadata": {},
   "source": [
    "## Criação do Jogo e das Mãos"
   ]
  },
  {
   "attachments": {},
   "cell_type": "markdown",
   "metadata": {},
   "source": [
    "## Criação das Possibilidades"
   ]
  },
  {
   "cell_type": "code",
   "execution_count": null,
   "metadata": {},
   "outputs": [],
   "source": []
  },
  {
   "attachments": {},
   "cell_type": "markdown",
   "metadata": {},
   "source": [
    "## Cálculo das Pontuações por Possibilidade"
   ]
  },
  {
   "attachments": {},
   "cell_type": "markdown",
   "metadata": {},
   "source": [
    "Lembrar de verificar o atributo \"SemPenalidade\" de cada carta antes de executar o método \".penalidade()\"."
   ]
  },
  {
   "attachments": {},
   "cell_type": "markdown",
   "metadata": {},
   "source": [
    "# Testes"
   ]
  },
  {
   "attachments": {},
   "cell_type": "markdown",
   "metadata": {},
   "source": [
    "* Variação de bônus de cada carta.\n",
    "* Mãos invalidas.\n",
    "* Fênix."
   ]
  },
  {
   "attachments": {},
   "cell_type": "markdown",
   "metadata": {},
   "source": [
    "### Testes de cartas segmentado"
   ]
  },
  {
   "attachments": {},
   "cell_type": "markdown",
   "metadata": {},
   "source": [
    "#### Conjunto A"
   ]
  },
  {
   "attachments": {},
   "cell_type": "markdown",
   "metadata": {},
   "source": [
    "O Pântano penaliza os exércitos?"
   ]
  },
  {
   "attachments": {},
   "cell_type": "markdown",
   "metadata": {},
   "source": [
    "O Rei e a Rainha fornecem bônus diferentes por exército?"
   ]
  },
  {
   "attachments": {},
   "cell_type": "markdown",
   "metadata": {},
   "source": [
    "A Infantaria Anã penaliza por exército?"
   ]
  },
  {
   "cell_type": "code",
   "execution_count": 203,
   "metadata": {},
   "outputs": [],
   "source": [
    "TesteA2 = [Pântano(),\n",
    "          Rei(),\n",
    "          Infantaria_Anã(),\n",
    "          Rainha(),\n",
    "          Patrulheiros(),\n",
    "          Dirigível_de_Guerra(),\n",
    "          Navio_de_Guerra(),\n",
    "          Hidra(),\n",
    "          Líder_Militar(),\n",
    "          Imperatriz()]"
   ]
  },
  {
   "cell_type": "code",
   "execution_count": 204,
   "metadata": {},
   "outputs": [],
   "source": [
    "TesteA = [Livro_da_Transfiguração(),\n",
    "          Lorde_dos_Bruxos(),\n",
    "          Colecionador(),\n",
    "          Doppelgänger(),\n",
    "          Elemental_da_Terra(),\n",
    "          Elemental_do_Ar(),\n",
    "          Árvore_do_Mundo(),\n",
    "          Cavalaria_Leve(),\n",
    "          Miragem(),\n",
    "          Fênix(),\n",
    "          Metamorfo()]"
   ]
  },
  {
   "cell_type": "code",
   "execution_count": 205,
   "metadata": {},
   "outputs": [
    {
     "name": "stdout",
     "output_type": "stream",
     "text": [
      "330 mãos geradas.\n"
     ]
    }
   ],
   "source": [
    "JogoA = Jogo(TesteA)"
   ]
  },
  {
   "cell_type": "code",
   "execution_count": 206,
   "metadata": {},
   "outputs": [],
   "source": [
    "JogoA.gerapontos()"
   ]
  },
  {
   "cell_type": "code",
   "execution_count": null,
   "metadata": {},
   "outputs": [],
   "source": [
    "JogoA.relação()"
   ]
  },
  {
   "cell_type": "code",
   "execution_count": null,
   "metadata": {},
   "outputs": [],
   "source": [
    "JogoA.mostrajogo()"
   ]
  },
  {
   "attachments": {},
   "cell_type": "markdown",
   "metadata": {},
   "source": [
    "Conjunto B"
   ]
  },
  {
   "cell_type": "code",
   "execution_count": null,
   "metadata": {},
   "outputs": [],
   "source": [
    "TesteB2 = [Elemental_do_Ar(),\n",
    "          Tempestade(),\n",
    "          Incêndio(),\n",
    "          Relâmpago(),\n",
    "          Caverna(),\n",
    "          Montanha(),\n",
    "          Fumaça(),\n",
    "          Grande_Inundação(),\n",
    "          Nevasca(),\n",
    "          Ilha(),\n",
    "          Furacão()]"
   ]
  },
  {
   "cell_type": "code",
   "execution_count": null,
   "metadata": {},
   "outputs": [],
   "source": [
    "TesteB = [Infantaria_Anã(),\n",
    "          Navio_de_Guerra(),\n",
    "          Escudo_de_Keth(),\n",
    "          Espada_de_Keth(),\n",
    "          Hidra(),\n",
    "          Pântano(),\n",
    "          Rei(),\n",
    "          Rainha(),\n",
    "          Líder_Militar(),\n",
    "          Patrulheiros(),\n",
    "          Dirigível_de_Guerra()]"
   ]
  },
  {
   "cell_type": "code",
   "execution_count": null,
   "metadata": {},
   "outputs": [],
   "source": [
    "JogoB = Jogo(TesteB)"
   ]
  },
  {
   "cell_type": "code",
   "execution_count": null,
   "metadata": {},
   "outputs": [],
   "source": [
    "JogoB.gerapontos()"
   ]
  },
  {
   "cell_type": "code",
   "execution_count": null,
   "metadata": {},
   "outputs": [],
   "source": [
    "JogoB.mostrajogo()"
   ]
  },
  {
   "cell_type": "code",
   "execution_count": null,
   "metadata": {},
   "outputs": [],
   "source": [
    "JogoB.relação()"
   ]
  },
  {
   "attachments": {},
   "cell_type": "markdown",
   "metadata": {},
   "source": [
    "Conjunto C"
   ]
  },
  {
   "cell_type": "code",
   "execution_count": null,
   "metadata": {},
   "outputs": [],
   "source": [
    "TesteC2 = [Miragem(),\n",
    "          Mestre_dos_Animais(),\n",
    "          Basilisco(),\n",
    "          Princesa(),\n",
    "          Unicórnio(),\n",
    "          Fênix(),\n",
    "          Árvore_do_Mundo(),\n",
    "          Forja(),\n",
    "          #Metamorfo(),\n",
    "          Varinha_Mágica()]"
   ]
  },
  {
   "cell_type": "code",
   "execution_count": null,
   "metadata": {},
   "outputs": [],
   "source": [
    "TesteC = [Arco_Longo_Élfico(),\n",
    "          Floresta(),\n",
    "          Arqueiros_Elfos(),\n",
    "          Imperatriz(),\n",
    "          Cavalo_de_Guerra(),\n",
    "          Feiticeira(),\n",
    "          Cavaleiros(),\n",
    "          Basilisco(),\n",
    "          Mestre_dos_Animais(),\n",
    "          Princesa(),\n",
    "          Unicórnio()]"
   ]
  },
  {
   "cell_type": "code",
   "execution_count": null,
   "metadata": {},
   "outputs": [],
   "source": [
    "JogoC = Jogo(TesteC)"
   ]
  },
  {
   "cell_type": "code",
   "execution_count": null,
   "metadata": {},
   "outputs": [],
   "source": [
    "JogoC.gerapontos()"
   ]
  },
  {
   "cell_type": "code",
   "execution_count": null,
   "metadata": {},
   "outputs": [],
   "source": [
    "JogoC.mostrajogo()"
   ]
  },
  {
   "cell_type": "code",
   "execution_count": null,
   "metadata": {},
   "outputs": [],
   "source": [
    "JogoC.relação()"
   ]
  },
  {
   "attachments": {},
   "cell_type": "markdown",
   "metadata": {},
   "source": [
    "Conjunto D"
   ]
  },
  {
   "cell_type": "code",
   "execution_count": null,
   "metadata": {},
   "outputs": [],
   "source": [
    "TesteD2 = [Feiticeira(),\n",
    "          Espada_de_Keth(),\n",
    "          Escudo_de_Keth(),\n",
    "          Metamorfo(),\n",
    "          Floresta(),\n",
    "          Arqueiros_Elfos(),\n",
    "          Arco_Longo_Élfico(),\n",
    "          Cavalo_de_Guerra()]"
   ]
  },
  {
   "cell_type": "code",
   "execution_count": null,
   "metadata": {},
   "outputs": [],
   "source": [
    "TesteD = [Dragão(),\n",
    "          Varinha_Mágica(),\n",
    "          Vela(),\n",
    "          Necromante(),\n",
    "          Bobo_da_Corte(),\n",
    "          Gema_da_Ordem(),\n",
    "          Elemental_do_Fogo(),\n",
    "          Torre_do_Sino(),\n",
    "          Forja(),\n",
    "          Ilha(),\n",
    "          Elemental_da_Água()]"
   ]
  },
  {
   "cell_type": "code",
   "execution_count": null,
   "metadata": {},
   "outputs": [],
   "source": [
    "JogoD = Jogo(TesteD)"
   ]
  },
  {
   "cell_type": "code",
   "execution_count": null,
   "metadata": {},
   "outputs": [],
   "source": [
    "JogoD.gerapontos()"
   ]
  },
  {
   "cell_type": "code",
   "execution_count": null,
   "metadata": {},
   "outputs": [],
   "source": [
    "JogoD.mostrajogo()"
   ]
  },
  {
   "cell_type": "code",
   "execution_count": null,
   "metadata": {},
   "outputs": [],
   "source": [
    "JogoD.relação()"
   ]
  },
  {
   "attachments": {},
   "cell_type": "markdown",
   "metadata": {},
   "source": [
    "Conjunto E"
   ]
  },
  {
   "cell_type": "code",
   "execution_count": null,
   "metadata": {},
   "outputs": [],
   "source": [
    "TesteE2 = [Runa_de_Proteção(),\n",
    "          Elemental_da_Água(),\n",
    "          Cavaleiros(),\n",
    "          Dragão(),\n",
    "          Livro_da_Transfiguração(),\n",
    "          Bobo_da_Corte(),\n",
    "          Lorde_dos_Bruxos(),\n",
    "          Colecionador()]"
   ]
  },
  {
   "cell_type": "code",
   "execution_count": null,
   "metadata": {},
   "outputs": [],
   "source": [
    "TesteE = [Montanha(),\n",
    "          Caverna(),\n",
    "          Incêndio(),\n",
    "          Relâmpago(),\n",
    "          Fumaça(),\n",
    "          Grande_Inundação(),\n",
    "          Furacão(),\n",
    "          Tempestade(),\n",
    "          Nevasca(),\n",
    "          Fonte_da_Vida(),\n",
    "          Runa_de_Proteção()]"
   ]
  },
  {
   "cell_type": "code",
   "execution_count": null,
   "metadata": {},
   "outputs": [],
   "source": [
    "JogoE = Jogo(TesteE)"
   ]
  },
  {
   "cell_type": "code",
   "execution_count": null,
   "metadata": {},
   "outputs": [],
   "source": [
    "JogoE.gerapontos()"
   ]
  },
  {
   "cell_type": "code",
   "execution_count": null,
   "metadata": {},
   "outputs": [],
   "source": [
    "JogoE.mostrajogo()"
   ]
  },
  {
   "cell_type": "code",
   "execution_count": null,
   "metadata": {},
   "outputs": [],
   "source": [
    "JogoE.relação()"
   ]
  },
  {
   "attachments": {},
   "cell_type": "markdown",
   "metadata": {},
   "source": [
    "Conjunto F"
   ]
  },
  {
   "cell_type": "code",
   "execution_count": null,
   "metadata": {},
   "outputs": [],
   "source": [
    "TesteF = [Torre_do_Sino(),\n",
    "          Doppelgänger(),\n",
    "          Fonte_da_Vida(),\n",
    "          Vela(),\n",
    "          Necromante(),\n",
    "          Elemental_da_Terra(),\n",
    "          Elemental_do_Fogo(),\n",
    "          Gema_da_Ordem(),\n",
    "          Cavalaria_Leve()]"
   ]
  },
  {
   "cell_type": "code",
   "execution_count": null,
   "metadata": {},
   "outputs": [],
   "source": [
    "JogoF = Jogo(TesteF)"
   ]
  },
  {
   "cell_type": "code",
   "execution_count": null,
   "metadata": {},
   "outputs": [],
   "source": [
    "JogoF.gerapontos()"
   ]
  },
  {
   "cell_type": "code",
   "execution_count": null,
   "metadata": {},
   "outputs": [],
   "source": [
    "JogoF.mostrajogo()"
   ]
  },
  {
   "cell_type": "code",
   "execution_count": null,
   "metadata": {},
   "outputs": [],
   "source": [
    "JogoF.relação()"
   ]
  },
  {
   "attachments": {},
   "cell_type": "markdown",
   "metadata": {},
   "source": [
    "Conjunto G"
   ]
  },
  {
   "cell_type": "code",
   "execution_count": null,
   "metadata": {},
   "outputs": [],
   "source": [
    "#TesteG = []"
   ]
  },
  {
   "cell_type": "code",
   "execution_count": null,
   "metadata": {},
   "outputs": [],
   "source": [
    "#JogoG = Jogo(TesteG)"
   ]
  },
  {
   "cell_type": "code",
   "execution_count": null,
   "metadata": {},
   "outputs": [],
   "source": [
    "#JogoG.gerapontos()"
   ]
  },
  {
   "cell_type": "code",
   "execution_count": null,
   "metadata": {},
   "outputs": [],
   "source": [
    "#JogoG.mostrajogo()"
   ]
  },
  {
   "cell_type": "code",
   "execution_count": null,
   "metadata": {},
   "outputs": [],
   "source": [
    "#JogoG.relação()"
   ]
  },
  {
   "attachments": {},
   "cell_type": "markdown",
   "metadata": {},
   "source": [
    "Conjunto H"
   ]
  },
  {
   "cell_type": "code",
   "execution_count": null,
   "metadata": {},
   "outputs": [],
   "source": [
    "#TesteH = []"
   ]
  },
  {
   "cell_type": "code",
   "execution_count": null,
   "metadata": {},
   "outputs": [],
   "source": [
    "#JogoH = Jogo(TesteH)"
   ]
  },
  {
   "cell_type": "code",
   "execution_count": null,
   "metadata": {},
   "outputs": [],
   "source": [
    "#JogoH.gerapontos()"
   ]
  },
  {
   "cell_type": "code",
   "execution_count": null,
   "metadata": {},
   "outputs": [],
   "source": [
    "#JogoH.mostrajogo()"
   ]
  },
  {
   "cell_type": "code",
   "execution_count": null,
   "metadata": {},
   "outputs": [],
   "source": [
    "#JogoH.relação()"
   ]
  },
  {
   "attachments": {},
   "cell_type": "markdown",
   "metadata": {},
   "source": []
  }
 ],
 "metadata": {
  "kernelspec": {
   "display_name": "Python 3 (ipykernel)",
   "language": "python",
   "name": "python3"
  },
  "language_info": {
   "codemirror_mode": {
    "name": "ipython",
    "version": 3
   },
   "file_extension": ".py",
   "mimetype": "text/x-python",
   "name": "python",
   "nbconvert_exporter": "python",
   "pygments_lexer": "ipython3",
   "version": "3.10.11"
  }
 },
 "nbformat": 4,
 "nbformat_minor": 2
}
